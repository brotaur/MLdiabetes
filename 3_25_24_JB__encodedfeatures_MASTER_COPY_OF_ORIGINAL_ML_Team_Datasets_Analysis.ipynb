{
  "nbformat": 4,
  "nbformat_minor": 0,
  "metadata": {
    "colab": {
      "provenance": []
    },
    "kernelspec": {
      "name": "python3",
      "display_name": "Python 3"
    },
    "language_info": {
      "name": "python"
    }
  },
  "cells": [
    {
      "cell_type": "code",
      "execution_count": 1,
      "metadata": {
        "id": "LbxgVGFSrFaO"
      },
      "outputs": [],
      "source": [
        "import pandas as pd"
      ]
    },
    {
      "cell_type": "code",
      "source": [
        "!pip3 install -U ucimlrepo"
      ],
      "metadata": {
        "id": "a-xzLu89D77h",
        "colab": {
          "base_uri": "https://localhost:8080/"
        },
        "outputId": "4826a954-330b-4d2c-ff2a-f6617ecf6ad5"
      },
      "execution_count": 2,
      "outputs": [
        {
          "output_type": "stream",
          "name": "stdout",
          "text": [
            "Collecting ucimlrepo\n",
            "  Downloading ucimlrepo-0.0.6-py3-none-any.whl (8.0 kB)\n",
            "Installing collected packages: ucimlrepo\n",
            "Successfully installed ucimlrepo-0.0.6\n"
          ]
        }
      ]
    },
    {
      "cell_type": "code",
      "source": [
        "from ucimlrepo import fetch_ucirepo"
      ],
      "metadata": {
        "id": "yaFY-OqZXSsm"
      },
      "execution_count": 3,
      "outputs": []
    },
    {
      "cell_type": "code",
      "source": [
        "# fetch dataset\n",
        "dia_130 = fetch_ucirepo(id=296)\n",
        "# metadata\n",
        "print(\"A metadata Description\")\n",
        "print(dia_130.metadata)\n",
        "\n",
        "print(dia_130.shape)\n",
        "\n",
        "#variable information\n",
        "print(dia_130.variables)"
      ],
      "metadata": {
        "colab": {
          "base_uri": "https://localhost:8080/"
        },
        "id": "xZWPd_iCXnOP",
        "outputId": "3856f8fe-fcbb-4986-b9ee-7314cea2ef36"
      },
      "execution_count": 4,
      "outputs": [
        {
          "output_type": "stream",
          "name": "stderr",
          "text": [
            "/usr/local/lib/python3.10/dist-packages/ucimlrepo/fetch.py:97: DtypeWarning: Columns (10) have mixed types. Specify dtype option on import or set low_memory=False.\n",
            "  df = pd.read_csv(data_url)\n"
          ]
        },
        {
          "output_type": "stream",
          "name": "stdout",
          "text": [
            "A metadata Description\n",
            "{'uci_id': 296, 'name': 'Diabetes 130-US Hospitals for Years 1999-2008', 'repository_url': 'https://archive.ics.uci.edu/dataset/296/diabetes+130-us+hospitals+for+years+1999-2008', 'data_url': 'https://archive.ics.uci.edu/static/public/296/data.csv', 'abstract': 'The dataset represents ten years (1999-2008) of clinical care at 130 US hospitals and integrated delivery networks. Each row concerns hospital records of patients diagnosed with diabetes, who underwent laboratory, medications, and stayed up to 14 days. The goal is to determine the early readmission of the patient within 30 days of discharge.\\nThe problem is important for the following reasons. Despite high-quality evidence showing improved clinical outcomes for diabetic patients who receive various preventive and therapeutic interventions, many patients do not receive them. This can be partially attributed to arbitrary diabetes management in hospital environments, which fail to attend to glycemic control. Failure to provide proper diabetes care not only increases the managing costs for the hospitals (as the patients are readmitted) but also impacts the morbidity and mortality of the patients, who may face complications associated with diabetes.\\n', 'area': 'Health and Medicine', 'tasks': ['Classification', 'Clustering'], 'characteristics': ['Multivariate'], 'num_instances': 101766, 'num_features': 47, 'feature_types': ['Categorical', 'Integer'], 'demographics': ['Race', 'Gender', 'Age'], 'target_col': ['readmitted'], 'index_col': ['encounter_id', 'patient_nbr'], 'has_missing_values': 'yes', 'missing_values_symbol': 'NaN', 'year_of_dataset_creation': 2014, 'last_updated': 'Mon Feb 26 2024', 'dataset_doi': '10.24432/C5230J', 'creators': ['John Clore', 'Krzysztof Cios', 'Jon DeShazo', 'Beata Strack'], 'intro_paper': {'title': 'Impact of HbA1c Measurement on Hospital Readmission Rates: Analysis of 70,000 Clinical Database Patient Record', 'authors': 'Beata Strack, Jonathan DeShazo, Chris Gennings, Juan Olmo, Sebastian Ventura, Krzysztof Cios, John Clore', 'published_in': 'BioMed Research International, vol. 2014', 'year': 2014, 'url': 'https://www.hindawi.com/journals/bmri/2014/781670/', 'doi': None}, 'additional_info': {'summary': 'The dataset represents ten years (1999-2008) of clinical care at 130 US hospitals and integrated delivery networks. It includes over 50 features representing patient and hospital outcomes. Information was extracted from the database for encounters that satisfied the following criteria.\\n(1)\\tIt is an inpatient encounter (a hospital admission).\\n(2)\\tIt is a diabetic encounter, that is, one during which any kind of diabetes was entered into the system as a diagnosis.\\n(3)\\tThe length of stay was at least 1 day and at most 14 days.\\n(4)\\tLaboratory tests were performed during the encounter.\\n(5)\\tMedications were administered during the encounter.\\n\\nThe data contains such attributes as patient number, race, gender, age, admission type, time in hospital, medical specialty of admitting physician, number of lab tests performed, HbA1c test result, diagnosis, number of medications, diabetic medications, number of outpatient, inpatient, and emergency visits in the year before the hospitalization, etc.', 'purpose': None, 'funded_by': None, 'instances_represent': 'The instances represent hospitalized patient records diagnosed with diabetes.', 'recommended_data_splits': 'No recommendation. The standard train-test split could be used. Can use three-way holdout split (i.e., train-validation-test) when doing model selection.', 'sensitive_data': 'Yes. The dataset contains information about the age, gender, and race of the patients.', 'preprocessing_description': None, 'variable_info': 'Detailed description of all the atrributes is provided in Table 1 Beata Strack, Jonathan P. DeShazo, Chris Gennings,  Juan L. Olmo, Sebastian Ventura,  Krzysztof J. Cios, and John N. Clore, “Impact of HbA1c Measurement on Hospital Readmission Rates: Analysis of 70,000 Clinical Database Patient Records,” BioMed Research International, vol. 2014, Article ID 781670, 11 pages, 2014.\\n\\nhttp://www.hindawi.com/journals/bmri/2014/781670/', 'citation': 'Please cite:\\nBeata Strack, Jonathan P. DeShazo, Chris Gennings, Juan L. Olmo, Sebastian Ventura, Krzysztof J. Cios, and John N. Clore, “Impact of HbA1c Measurement on Hospital Readmission Rates: Analysis of 70,000 Clinical Database Patient Records,” BioMed Research International, vol. 2014, Article ID 781670, 11 pages, 2014.'}}\n",
            "None\n",
            "                        name     role         type demographic  \\\n",
            "0               encounter_id       ID                     None   \n",
            "1                patient_nbr       ID                     None   \n",
            "2                       race  Feature  Categorical        Race   \n",
            "3                     gender  Feature  Categorical      Gender   \n",
            "4                        age  Feature  Categorical         Age   \n",
            "5                     weight  Feature  Categorical        None   \n",
            "6          admission_type_id  Feature  Categorical        None   \n",
            "7   discharge_disposition_id  Feature  Categorical        None   \n",
            "8        admission_source_id  Feature  Categorical        None   \n",
            "9           time_in_hospital  Feature      Integer        None   \n",
            "10                payer_code  Feature  Categorical        None   \n",
            "11         medical_specialty  Feature  Categorical        None   \n",
            "12        num_lab_procedures  Feature      Integer        None   \n",
            "13            num_procedures  Feature      Integer        None   \n",
            "14           num_medications  Feature      Integer        None   \n",
            "15         number_outpatient  Feature      Integer        None   \n",
            "16          number_emergency  Feature      Integer        None   \n",
            "17          number_inpatient  Feature      Integer        None   \n",
            "18                    diag_1  Feature  Categorical        None   \n",
            "19                    diag_2  Feature  Categorical        None   \n",
            "20                    diag_3  Feature  Categorical        None   \n",
            "21          number_diagnoses  Feature      Integer        None   \n",
            "22             max_glu_serum  Feature  Categorical        None   \n",
            "23                 A1Cresult  Feature  Categorical        None   \n",
            "24                 metformin  Feature  Categorical        None   \n",
            "25               repaglinide  Feature  Categorical        None   \n",
            "26               nateglinide  Feature  Categorical        None   \n",
            "27            chlorpropamide  Feature  Categorical        None   \n",
            "28               glimepiride  Feature  Categorical        None   \n",
            "29             acetohexamide  Feature  Categorical        None   \n",
            "30                 glipizide  Feature  Categorical        None   \n",
            "31                 glyburide  Feature  Categorical        None   \n",
            "32               tolbutamide  Feature  Categorical        None   \n",
            "33              pioglitazone  Feature  Categorical        None   \n",
            "34             rosiglitazone  Feature  Categorical        None   \n",
            "35                  acarbose  Feature  Categorical        None   \n",
            "36                  miglitol  Feature  Categorical        None   \n",
            "37              troglitazone  Feature  Categorical        None   \n",
            "38                tolazamide  Feature  Categorical        None   \n",
            "39                   examide  Feature  Categorical        None   \n",
            "40               citoglipton  Feature  Categorical        None   \n",
            "41                   insulin  Feature  Categorical        None   \n",
            "42       glyburide-metformin  Feature  Categorical        None   \n",
            "43       glipizide-metformin  Feature  Categorical        None   \n",
            "44  glimepiride-pioglitazone  Feature  Categorical        None   \n",
            "45   metformin-rosiglitazone  Feature  Categorical        None   \n",
            "46    metformin-pioglitazone  Feature  Categorical        None   \n",
            "47                    change  Feature  Categorical        None   \n",
            "48               diabetesMed  Feature  Categorical        None   \n",
            "49                readmitted   Target  Categorical        None   \n",
            "\n",
            "                                          description units missing_values  \n",
            "0                   Unique identifier of an encounter  None             no  \n",
            "1                      Unique identifier of a patient  None             no  \n",
            "2   Values: Caucasian, Asian, African American, Hi...  None            yes  \n",
            "3           Values: male, female, and unknown/invalid  None             no  \n",
            "4   Grouped in 10-year intervals: [0, 10), [10, 20...  None             no  \n",
            "5                                   Weight in pounds.  None            yes  \n",
            "6   Integer identifier corresponding to 9 distinct...  None             no  \n",
            "7   Integer identifier corresponding to 29 distinc...  None             no  \n",
            "8   Integer identifier corresponding to 21 distinc...  None             no  \n",
            "9   Integer number of days between admission and d...  None             no  \n",
            "10  Integer identifier corresponding to 23 distinc...  None            yes  \n",
            "11  Integer identifier of a specialty of the admit...  None            yes  \n",
            "12  Number of lab tests performed during the encou...  None             no  \n",
            "13  Number of procedures (other than lab tests) pe...  None             no  \n",
            "14  Number of distinct generic names administered ...  None             no  \n",
            "15  Number of outpatient visits of the patient in ...  None             no  \n",
            "16  Number of emergency visits of the patient in t...  None             no  \n",
            "17  Number of inpatient visits of the patient in t...  None             no  \n",
            "18  The primary diagnosis (coded as first three di...  None            yes  \n",
            "19  Secondary diagnosis (coded as first three digi...  None            yes  \n",
            "20  Additional secondary diagnosis (coded as first...  None            yes  \n",
            "21          Number of diagnoses entered to the system  None             no  \n",
            "22  Indicates the range of the result or if the te...  None             no  \n",
            "23  Indicates the range of the result or if the te...  None             no  \n",
            "24  The feature indicates whether the drug was pre...  None             no  \n",
            "25  The feature indicates whether the drug was pre...  None             no  \n",
            "26  The feature indicates whether the drug was pre...  None             no  \n",
            "27  The feature indicates whether the drug was pre...  None             no  \n",
            "28  The feature indicates whether the drug was pre...  None             no  \n",
            "29  The feature indicates whether the drug was pre...  None             no  \n",
            "30  The feature indicates whether the drug was pre...  None             no  \n",
            "31  The feature indicates whether the drug was pre...  None             no  \n",
            "32  The feature indicates whether the drug was pre...  None             no  \n",
            "33  The feature indicates whether the drug was pre...  None             no  \n",
            "34  The feature indicates whether the drug was pre...  None             no  \n",
            "35  The feature indicates whether the drug was pre...  None             no  \n",
            "36  The feature indicates whether the drug was pre...  None             no  \n",
            "37  The feature indicates whether the drug was pre...  None             no  \n",
            "38  The feature indicates whether the drug was pre...  None             no  \n",
            "39  The feature indicates whether the drug was pre...  None             no  \n",
            "40  The feature indicates whether the drug was pre...  None             no  \n",
            "41  The feature indicates whether the drug was pre...  None             no  \n",
            "42  The feature indicates whether the drug was pre...  None             no  \n",
            "43  The feature indicates whether the drug was pre...  None             no  \n",
            "44  The feature indicates whether the drug was pre...  None             no  \n",
            "45  The feature indicates whether the drug was pre...  None             no  \n",
            "46  The feature indicates whether the drug was pre...  None             no  \n",
            "47  Indicates if there was a change in diabetic me...  None             no  \n",
            "48  Indicates if there was any diabetic medication...  None             no  \n",
            "49  Days to inpatient readmission. Values: <30 if ...  None             no  \n"
          ]
        }
      ]
    },
    {
      "cell_type": "code",
      "source": [
        "# data (as pandas dataframes)\n",
        "X_130 = dia_130.data.features\n",
        "y_130 = dia_130.data.targets\n",
        "\n",
        "print(\"DataFrame\")\n",
        "pandas_df = pd.DataFrame(X_130, columns=dia_130.feature_names)\n",
        "pandas_df.drop(['weight','payer_code','medical_specialty'], axis = 1, inplace = True)\n",
        "pandas_df = pandas_df.dropna(subset=['race','diag_1', 'diag_2', 'diag_3'])\n",
        "print(pandas_df.shape)\n",
        "print(\"Features and number of NaN values per feature/column\")\n",
        "v1_130 = pandas_df.isnull().sum()\n",
        "print(v1_130)\n"
      ],
      "metadata": {
        "colab": {
          "base_uri": "https://localhost:8080/"
        },
        "id": "-9r1q_xmePrm",
        "outputId": "ae10c9c3-3ee4-4778-875e-678915a28f4e"
      },
      "execution_count": 5,
      "outputs": [
        {
          "output_type": "stream",
          "name": "stdout",
          "text": [
            "DataFrame\n",
            "(98053, 44)\n",
            "Features and number of NaN values per feature/column\n",
            "race                        0\n",
            "gender                      0\n",
            "age                         0\n",
            "admission_type_id           0\n",
            "discharge_disposition_id    0\n",
            "admission_source_id         0\n",
            "time_in_hospital            0\n",
            "num_lab_procedures          0\n",
            "num_procedures              0\n",
            "num_medications             0\n",
            "number_outpatient           0\n",
            "number_emergency            0\n",
            "number_inpatient            0\n",
            "diag_1                      0\n",
            "diag_2                      0\n",
            "diag_3                      0\n",
            "number_diagnoses            0\n",
            "max_glu_serum               0\n",
            "A1Cresult                   0\n",
            "metformin                   0\n",
            "repaglinide                 0\n",
            "nateglinide                 0\n",
            "chlorpropamide              0\n",
            "glimepiride                 0\n",
            "acetohexamide               0\n",
            "glipizide                   0\n",
            "glyburide                   0\n",
            "tolbutamide                 0\n",
            "pioglitazone                0\n",
            "rosiglitazone               0\n",
            "acarbose                    0\n",
            "miglitol                    0\n",
            "troglitazone                0\n",
            "tolazamide                  0\n",
            "examide                     0\n",
            "citoglipton                 0\n",
            "insulin                     0\n",
            "glyburide-metformin         0\n",
            "glipizide-metformin         0\n",
            "glimepiride-pioglitazone    0\n",
            "metformin-rosiglitazone     0\n",
            "metformin-pioglitazone      0\n",
            "change                      0\n",
            "diabetesMed                 0\n",
            "dtype: int64\n"
          ]
        }
      ]
    },
    {
      "cell_type": "code",
      "source": [
        "print(pandas_df.head())\n",
        "print(pandas_df.dtypes)"
      ],
      "metadata": {
        "colab": {
          "base_uri": "https://localhost:8080/"
        },
        "id": "9kVageXA9wFA",
        "outputId": "780a1de0-68d6-4872-f50c-095b817b965d"
      },
      "execution_count": 6,
      "outputs": [
        {
          "output_type": "stream",
          "name": "stdout",
          "text": [
            "              race  gender      age  admission_type_id  \\\n",
            "1        Caucasian  Female  [10-20)                  1   \n",
            "2  AfricanAmerican  Female  [20-30)                  1   \n",
            "3        Caucasian    Male  [30-40)                  1   \n",
            "4        Caucasian    Male  [40-50)                  1   \n",
            "5        Caucasian    Male  [50-60)                  2   \n",
            "\n",
            "   discharge_disposition_id  admission_source_id  time_in_hospital  \\\n",
            "1                         1                    7                 3   \n",
            "2                         1                    7                 2   \n",
            "3                         1                    7                 2   \n",
            "4                         1                    7                 1   \n",
            "5                         1                    2                 3   \n",
            "\n",
            "   num_lab_procedures  num_procedures  num_medications  ...  examide  \\\n",
            "1                  59               0               18  ...       No   \n",
            "2                  11               5               13  ...       No   \n",
            "3                  44               1               16  ...       No   \n",
            "4                  51               0                8  ...       No   \n",
            "5                  31               6               16  ...       No   \n",
            "\n",
            "   citoglipton  insulin glyburide-metformin glipizide-metformin  \\\n",
            "1           No       Up                  No                  No   \n",
            "2           No       No                  No                  No   \n",
            "3           No       Up                  No                  No   \n",
            "4           No   Steady                  No                  No   \n",
            "5           No   Steady                  No                  No   \n",
            "\n",
            "  glimepiride-pioglitazone  metformin-rosiglitazone metformin-pioglitazone  \\\n",
            "1                       No                       No                     No   \n",
            "2                       No                       No                     No   \n",
            "3                       No                       No                     No   \n",
            "4                       No                       No                     No   \n",
            "5                       No                       No                     No   \n",
            "\n",
            "  change diabetesMed  \n",
            "1     Ch         Yes  \n",
            "2     No         Yes  \n",
            "3     Ch         Yes  \n",
            "4     Ch         Yes  \n",
            "5     No         Yes  \n",
            "\n",
            "[5 rows x 44 columns]\n",
            "race                        object\n",
            "gender                      object\n",
            "age                         object\n",
            "admission_type_id            int64\n",
            "discharge_disposition_id     int64\n",
            "admission_source_id          int64\n",
            "time_in_hospital             int64\n",
            "num_lab_procedures           int64\n",
            "num_procedures               int64\n",
            "num_medications              int64\n",
            "number_outpatient            int64\n",
            "number_emergency             int64\n",
            "number_inpatient             int64\n",
            "diag_1                      object\n",
            "diag_2                      object\n",
            "diag_3                      object\n",
            "number_diagnoses             int64\n",
            "max_glu_serum               object\n",
            "A1Cresult                   object\n",
            "metformin                   object\n",
            "repaglinide                 object\n",
            "nateglinide                 object\n",
            "chlorpropamide              object\n",
            "glimepiride                 object\n",
            "acetohexamide               object\n",
            "glipizide                   object\n",
            "glyburide                   object\n",
            "tolbutamide                 object\n",
            "pioglitazone                object\n",
            "rosiglitazone               object\n",
            "acarbose                    object\n",
            "miglitol                    object\n",
            "troglitazone                object\n",
            "tolazamide                  object\n",
            "examide                     object\n",
            "citoglipton                 object\n",
            "insulin                     object\n",
            "glyburide-metformin         object\n",
            "glipizide-metformin         object\n",
            "glimepiride-pioglitazone    object\n",
            "metformin-rosiglitazone     object\n",
            "metformin-pioglitazone      object\n",
            "change                      object\n",
            "diabetesMed                 object\n",
            "dtype: object\n"
          ]
        }
      ]
    },
    {
      "cell_type": "code",
      "source": [
        "pandas_df_tar = pd.DataFrame(y_130, columns=dia_130.target_names)\n",
        "print(pandas_df_tar.shape)\n",
        "print(pandas_df_tar.isnull().sum())"
      ],
      "metadata": {
        "colab": {
          "base_uri": "https://localhost:8080/"
        },
        "id": "xbH8DouK5evn",
        "outputId": "70b50de9-36d0-4efe-bded-7b026269738e"
      },
      "execution_count": 8,
      "outputs": [
        {
          "output_type": "stream",
          "name": "stdout",
          "text": [
            "(101766, 1)\n",
            "readmitted    0\n",
            "dtype: int64\n"
          ]
        }
      ]
    },
    {
      "cell_type": "markdown",
      "source": [
        "map diagnosis codes to categories"
      ],
      "metadata": {
        "id": "f2JViShXSyYn"
      }
    },
    {
      "cell_type": "code",
      "source": [
        "# Assuming '/mnt/data/Converstion table2.csv' is the path to your CSV\n",
        "# and pandas_df is your DataFrame\n",
        "\n",
        "# Step 1: Read the CSV and create the mapping dictionary\n",
        "icd_9_codes_url = 'https://raw.githubusercontent.com/brotaur/MLdiabetes/main/Converstion%20table2.csv'\n",
        "icd_9_codes_df = pd.read_csv(icd_9_codes_url, encoding='ISO-8859-1')\n",
        "icd_9_code_mapping = icd_9_codes_df.set_index('Diag Code')['Diag Category'].to_dict()\n",
        "\n",
        "# Step 2: Apply the mapping to your DataFrame\n",
        "icd_9_columns = ['diag_1', 'diag_2', 'diag_3']\n",
        "\n",
        "for column in icd_9_columns:\n",
        "    pandas_df[column] = pandas_df[column].map(icd_9_code_mapping)\n",
        "\n",
        "# At this point, diag_1, diag_2, and diag_3 in your DataFrame have been replaced\n",
        "# with their corresponding diagnostic categories from the CSV\n"
      ],
      "metadata": {
        "id": "g2g555MRSxgU"
      },
      "execution_count": 9,
      "outputs": []
    },
    {
      "cell_type": "code",
      "source": [
        "# Step 2: Inspect unique values after mapping\n",
        "print(\"Unique categories in 'diag_1' after mapping:\", pandas_df['diag_1'].unique()[:10])\n",
        "\n",
        "# Step 3: Sample rows check\n",
        "print(\"Sample rows from the DataFrame:\")\n",
        "print(pandas_df[['diag_1', 'diag_2', 'diag_3']].sample(5))\n",
        "\n",
        "# Step 4: Check for unmapped codes (assuming all codes should be mapped)\n",
        "unmapped_check = pandas_df[['diag_1', 'diag_2', 'diag_3']].isnull().any()\n",
        "print(\"Columns with unmapped codes:\", unmapped_check)\n"
      ],
      "metadata": {
        "colab": {
          "base_uri": "https://localhost:8080/"
        },
        "id": "IDXFLhxcU8zU",
        "outputId": "597739f9-b6ba-4ab0-b31e-e43c64863186"
      },
      "execution_count": 10,
      "outputs": [
        {
          "output_type": "stream",
          "name": "stdout",
          "text": [
            "Unique categories in 'diag_1' after mapping: ['Other metabolic and immunity disorders'\n",
            " 'Complications Mainly Related To Pregnancy'\n",
            " 'Intestinal infectious diseases'\n",
            " 'Malignant neoplasm of other and unspecified sites'\n",
            " 'Ischemic Heart Disease' 'Other Forms Of Heart Disease'\n",
            " 'Chronic Rheumatic Heart Disease' 'Cerebrovascular Disease'\n",
            " 'Diabetes mellitus'\n",
            " 'Malignant neoplasm of digestive organs and peritoneum']\n",
            "Sample rows from the DataFrame:\n",
            "                                    diag_1  \\\n",
            "4182                              Symptoms   \n",
            "42364                             Symptoms   \n",
            "34878                    Diabetes mellitus   \n",
            "63515              Cerebrovascular Disease   \n",
            "75963  Arthropathies And Related Disorders   \n",
            "\n",
            "                                                  diag_2  \\\n",
            "4182                    Other Diseases Of Urinary System   \n",
            "42364                       Other Forms Of Heart Disease   \n",
            "34878             Other metabolic and immunity disorders   \n",
            "63515  Chronic Obstructive Pulmonary Disease And Alli...   \n",
            "75963                   Other Diseases Of Urinary System   \n",
            "\n",
            "                                                  diag_3  \n",
            "4182        Diseases Of Esophagus, Stomach, And Duodenum  \n",
            "42364  Chronic Obstructive Pulmonary Disease And Alli...  \n",
            "34878       Nephritis, Nephrotic Syndrome, And Nephrosis  \n",
            "63515      Other Disorders Of The Central Nervous System  \n",
            "75963                               Hypertensive Disease  \n",
            "Columns with unmapped codes: diag_1    False\n",
            "diag_2    False\n",
            "diag_3    False\n",
            "dtype: bool\n"
          ]
        }
      ]
    },
    {
      "cell_type": "code",
      "source": [
        "from sklearn.preprocessing import LabelEncoder\n",
        "\n",
        "# Initialize one LabelEncoder per column to keep track of the mappings\n",
        "label_encoder_diag_1 = LabelEncoder()\n",
        "label_encoder_diag_2 = LabelEncoder()\n",
        "label_encoder_diag_3 = LabelEncoder()\n",
        "\n",
        "# Apply Label Encoding for 'diag_1', 'diag_2', 'diag_3'\n",
        "pandas_df['diag_1_encoded'] = label_encoder_diag_1.fit_transform(pandas_df['diag_1'])\n",
        "pandas_df['diag_2_encoded'] = label_encoder_diag_2.fit_transform(pandas_df['diag_2'])\n",
        "pandas_df['diag_3_encoded'] = label_encoder_diag_3.fit_transform(pandas_df['diag_3'])\n",
        "\n",
        "# Display the first few rows to verify the encoded columns\n",
        "print(pandas_df[['diag_1', 'diag_1_encoded', 'diag_2', 'diag_2_encoded', 'diag_3', 'diag_3_encoded']].head())\n"
      ],
      "metadata": {
        "colab": {
          "base_uri": "https://localhost:8080/"
        },
        "id": "bApVbqJ5VcWR",
        "outputId": "76ce450d-540c-48fb-a769-45dc45ae0539"
      },
      "execution_count": 11,
      "outputs": [
        {
          "output_type": "stream",
          "name": "stdout",
          "text": [
            "                                              diag_1  diag_1_encoded  \\\n",
            "1             Other metabolic and immunity disorders              98   \n",
            "2          Complications Mainly Related To Pregnancy              15   \n",
            "3                     Intestinal infectious diseases              57   \n",
            "4  Malignant neoplasm of other and unspecified sites              66   \n",
            "5                             Ischemic Heart Disease              59   \n",
            "\n",
            "                                              diag_2  diag_2_encoded  \\\n",
            "1                                  Diabetes mellitus              28   \n",
            "2                                  Diabetes mellitus              28   \n",
            "3                                  Diabetes mellitus              28   \n",
            "4  Malignant neoplasm of digestive organs and per...              74   \n",
            "5                             Ischemic Heart Disease              69   \n",
            "\n",
            "                                              diag_3  diag_3_encoded  \n",
            "1                        Disorders of adrenal glands              42  \n",
            "2  Persons Encountering Health Services In Circum...             119  \n",
            "3                               Hypertensive Disease              59  \n",
            "4                                  Diabetes mellitus              29  \n",
            "5                                  Diabetes mellitus              29  \n"
          ]
        }
      ]
    },
    {
      "cell_type": "code",
      "source": [
        "label_encoder_race = LabelEncoder()\n",
        "label_encoder_gender = LabelEncoder()\n",
        "label_encoder_change = LabelEncoder()\n",
        "label_encoder_diabetesMed = LabelEncoder()\n",
        "\n",
        "# Apply Label Encoding for race, gender, change, and diabetesMed\n",
        "pandas_df['race'] = label_encoder_diag_1.fit_transform(pandas_df['race'])\n",
        "pandas_df['gender'] = label_encoder_diag_2.fit_transform(pandas_df['gender'])\n",
        "pandas_df['change'] = label_encoder_diag_3.fit_transform(pandas_df['change'])\n",
        "pandas_df['diabetesMed'] = label_encoder_diag_1.fit_transform(pandas_df['diabetesMed'])\n",
        "\n",
        "# Display the first few rows to verify the encoded columns\n",
        "print(pandas_df[['race', 'gender', 'change','diabetesMed']].head())"
      ],
      "metadata": {
        "colab": {
          "base_uri": "https://localhost:8080/"
        },
        "id": "4AtiShrIL9WX",
        "outputId": "7bb0059b-93b7-4abf-e484-4a7bf8b72ef1"
      },
      "execution_count": 12,
      "outputs": [
        {
          "output_type": "stream",
          "name": "stdout",
          "text": [
            "   race  gender  change  diabetesMed\n",
            "1     2       0       0            1\n",
            "2     0       0       1            1\n",
            "3     2       1       0            1\n",
            "4     2       1       0            1\n",
            "5     2       1       1            1\n"
          ]
        }
      ]
    },
    {
      "cell_type": "code",
      "source": [
        "pandas_df.dtypes"
      ],
      "metadata": {
        "colab": {
          "base_uri": "https://localhost:8080/"
        },
        "id": "myu5zJy4ZPPq",
        "outputId": "51175fed-e41a-4f54-e48f-55d53ff0bf60"
      },
      "execution_count": 13,
      "outputs": [
        {
          "output_type": "execute_result",
          "data": {
            "text/plain": [
              "race                         int64\n",
              "gender                       int64\n",
              "age                         object\n",
              "admission_type_id            int64\n",
              "discharge_disposition_id     int64\n",
              "admission_source_id          int64\n",
              "time_in_hospital             int64\n",
              "num_lab_procedures           int64\n",
              "num_procedures               int64\n",
              "num_medications              int64\n",
              "number_outpatient            int64\n",
              "number_emergency             int64\n",
              "number_inpatient             int64\n",
              "diag_1                      object\n",
              "diag_2                      object\n",
              "diag_3                      object\n",
              "number_diagnoses             int64\n",
              "max_glu_serum               object\n",
              "A1Cresult                   object\n",
              "metformin                   object\n",
              "repaglinide                 object\n",
              "nateglinide                 object\n",
              "chlorpropamide              object\n",
              "glimepiride                 object\n",
              "acetohexamide               object\n",
              "glipizide                   object\n",
              "glyburide                   object\n",
              "tolbutamide                 object\n",
              "pioglitazone                object\n",
              "rosiglitazone               object\n",
              "acarbose                    object\n",
              "miglitol                    object\n",
              "troglitazone                object\n",
              "tolazamide                  object\n",
              "examide                     object\n",
              "citoglipton                 object\n",
              "insulin                     object\n",
              "glyburide-metformin         object\n",
              "glipizide-metformin         object\n",
              "glimepiride-pioglitazone    object\n",
              "metformin-rosiglitazone     object\n",
              "metformin-pioglitazone      object\n",
              "change                       int64\n",
              "diabetesMed                  int64\n",
              "diag_1_encoded               int64\n",
              "diag_2_encoded               int64\n",
              "diag_3_encoded               int64\n",
              "dtype: object"
            ]
          },
          "metadata": {},
          "execution_count": 13
        }
      ]
    },
    {
      "cell_type": "code",
      "source": [
        "from sklearn.preprocessing import OrdinalEncoder\n",
        "\n",
        "# Mapping\n",
        "age_mapping = {'[0-10)':0, '[10-20)':1, '[20-30)':2, '[30-40)':3, '[40-50)':4, '[50-60)':5, '[60-70)':6, '[70-80)':7,'[80-90)':8, '[90-100)':9}\n",
        "max_glu_serum_mapping = {'None': 0, 'Norm': 1, '>200': 2, '>300': 3}\n",
        "A1Cresult_mapping = {'None': 0, 'Norm': 1, '>7': 2, '>8': 3}\n",
        "metformin_mapping = {'No':0, 'Steady': 1, 'Up':2, 'Down':3}\n",
        "repaglinide_mapping = {'No':0, 'Steady': 1, 'Up':2, 'Down':3}\n",
        "nateglinide_mapping = {'No':0, 'Steady': 1, 'Up':2, 'Down':3}\n",
        "chlorpropamide_mapping = {'No':0, 'Steady': 1, 'Up':2, 'Down':3}\n",
        "glimepiride_mapping = {'No':0, 'Steady': 1, 'Up':2, 'Down':3}\n",
        "acetohexamide_mapping = {'No':0, 'Steady': 1}\n",
        "glipizide_mapping = {'No':0, 'Steady': 1, 'Up':2, 'Down':3}\n",
        "glyburide_mapping = {'No':0, 'Steady': 1, 'Up':2, 'Down':3}\n",
        "tolbutamide_mapping = {'No':0, 'Steady': 1}\n",
        "pioglitazone_mapping = {'No':0, 'Steady': 1, 'Up':2, 'Down':3}\n",
        "rosiglitazone_mapping = {'No':0, 'Steady': 1, 'Up':2, 'Down':3}\n",
        "acarbose_mapping = {'No':0, 'Steady': 1, 'Up':2, 'Down':3}\n",
        "miglitol_mapping = {'No':0, 'Steady': 1, 'Up':2, 'Down':3}\n",
        "troglitazone_mapping = {'No':0, 'Steady': 1}\n",
        "tolazamide_mapping = {'No':0, 'Steady': 1, 'Up':2}\n",
        "examide_mapping = {'No':0}\n",
        "citoglipton_mapping = {\"No\": 0}\n",
        "insulin_mapping = {\"No\": 0, \"Steady\": 1, \"Up\": 2, \"Down\": 3}\n",
        "glyburide_metformin_mapping = {\"No\": 0, \"Steady\": 1, \"Up\": 2, \"Down\": 3}\n",
        "glipizide_metformin_mapping = {\"No\": 0, \"Steady\": 1}\n",
        "glimepiride_pioglitazone_mapping = {\"No\": 0, \"Steady\": 1}\n",
        "metformin_rosiglitazone_mapping = {'No':0}\n",
        "metformin_pioglitazone_mapping = {'No':0, 'Steady': 1}\n",
        "\n",
        "# Applying mapping\n",
        "pandas_df['age'] = pandas_df['age'].map(age_mapping)\n",
        "pandas_df['max_glu_serum'] = pandas_df['max_glu_serum'].map(max_glu_serum_mapping)\n",
        "pandas_df['A1Cresult'] = pandas_df['A1Cresult'].map(A1Cresult_mapping)\n",
        "pandas_df['metformin'] = pandas_df['metformin'].map(metformin_mapping)\n",
        "pandas_df['repaglinide'] = pandas_df['repaglinide'].map(repaglinide_mapping)\n",
        "pandas_df['nateglinide'] = pandas_df['nateglinide'].map(nateglinide_mapping)\n",
        "pandas_df['chlorpropamide'] = pandas_df['chlorpropamide'].map(chlorpropamide_mapping)\n",
        "pandas_df['glimepiride'] = pandas_df['glimepiride'].map(glimepiride_mapping)\n",
        "pandas_df['acetohexamide'] = pandas_df['acetohexamide'].map(acetohexamide_mapping)\n",
        "pandas_df['glipizide'] = pandas_df['glipizide'].map(glipizide_mapping)\n",
        "pandas_df['glyburide'] = pandas_df['glyburide'].map(glyburide_mapping)\n",
        "pandas_df['tolbutamide'] = pandas_df['tolbutamide'].map(tolbutamide_mapping)\n",
        "pandas_df['pioglitazone'] = pandas_df['pioglitazone'].map(pioglitazone_mapping)\n",
        "pandas_df['rosiglitazone'] = pandas_df['rosiglitazone'].map(rosiglitazone_mapping)\n",
        "pandas_df['acarbose'] = pandas_df['acarbose'].map(acarbose_mapping)\n",
        "pandas_df['miglitol'] = pandas_df['miglitol'].map(miglitol_mapping)\n",
        "pandas_df['troglitazone'] = pandas_df['troglitazone'].map(troglitazone_mapping)\n",
        "pandas_df['tolazamide'] = pandas_df['tolazamide'].map(tolazamide_mapping)\n",
        "pandas_df['examide'] = pandas_df['examide'].map(examide_mapping)\n",
        "pandas_df['citoglipton'] = pandas_df['citoglipton'].map(citoglipton_mapping)\n",
        "pandas_df['insulin'] = pandas_df['insulin'].map(insulin_mapping)\n",
        "pandas_df['glyburide-metformin'] = pandas_df['glyburide-metformin'].map(glyburide_metformin_mapping)\n",
        "pandas_df['glipizide-metformin'] = pandas_df['glipizide-metformin'].map(glipizide_metformin_mapping)\n",
        "pandas_df['glimepiride-pioglitazone'] = pandas_df['glimepiride-pioglitazone'].map(glimepiride_pioglitazone_mapping)\n",
        "pandas_df['metformin-rosiglitazone'] = pandas_df['metformin-rosiglitazone'].map(metformin_rosiglitazone_mapping)\n",
        "pandas_df['metformin-pioglitazone'] = pandas_df['metformin-pioglitazone'].map(metformin_pioglitazone_mapping)"
      ],
      "metadata": {
        "id": "lHFApAkGIDsN"
      },
      "execution_count": 14,
      "outputs": []
    },
    {
      "cell_type": "code",
      "source": [
        "pandas_df.dtypes"
      ],
      "metadata": {
        "colab": {
          "base_uri": "https://localhost:8080/"
        },
        "id": "jAgVgfK-ZaVS",
        "outputId": "600a6d79-d784-48fa-8a6d-46777e280c8e"
      },
      "execution_count": 15,
      "outputs": [
        {
          "output_type": "execute_result",
          "data": {
            "text/plain": [
              "race                         int64\n",
              "gender                       int64\n",
              "age                          int64\n",
              "admission_type_id            int64\n",
              "discharge_disposition_id     int64\n",
              "admission_source_id          int64\n",
              "time_in_hospital             int64\n",
              "num_lab_procedures           int64\n",
              "num_procedures               int64\n",
              "num_medications              int64\n",
              "number_outpatient            int64\n",
              "number_emergency             int64\n",
              "number_inpatient             int64\n",
              "diag_1                      object\n",
              "diag_2                      object\n",
              "diag_3                      object\n",
              "number_diagnoses             int64\n",
              "max_glu_serum                int64\n",
              "A1Cresult                    int64\n",
              "metformin                    int64\n",
              "repaglinide                  int64\n",
              "nateglinide                  int64\n",
              "chlorpropamide               int64\n",
              "glimepiride                  int64\n",
              "acetohexamide                int64\n",
              "glipizide                    int64\n",
              "glyburide                    int64\n",
              "tolbutamide                  int64\n",
              "pioglitazone                 int64\n",
              "rosiglitazone                int64\n",
              "acarbose                     int64\n",
              "miglitol                     int64\n",
              "troglitazone                 int64\n",
              "tolazamide                   int64\n",
              "examide                      int64\n",
              "citoglipton                  int64\n",
              "insulin                      int64\n",
              "glyburide-metformin          int64\n",
              "glipizide-metformin          int64\n",
              "glimepiride-pioglitazone     int64\n",
              "metformin-rosiglitazone      int64\n",
              "metformin-pioglitazone       int64\n",
              "change                       int64\n",
              "diabetesMed                  int64\n",
              "diag_1_encoded               int64\n",
              "diag_2_encoded               int64\n",
              "diag_3_encoded               int64\n",
              "dtype: object"
            ]
          },
          "metadata": {},
          "execution_count": 15
        }
      ]
    },
    {
      "cell_type": "code",
      "source": [
        "pandas_df_numeric = pandas_df.drop(columns=['diag_1', 'diag_2', 'diag_3'])\n",
        "pandas_df_numeric.dtypes"
      ],
      "metadata": {
        "colab": {
          "base_uri": "https://localhost:8080/"
        },
        "id": "cBTGssmdaZ21",
        "outputId": "e93d311a-4357-4b26-e331-009130890404"
      },
      "execution_count": 16,
      "outputs": [
        {
          "output_type": "execute_result",
          "data": {
            "text/plain": [
              "race                        int64\n",
              "gender                      int64\n",
              "age                         int64\n",
              "admission_type_id           int64\n",
              "discharge_disposition_id    int64\n",
              "admission_source_id         int64\n",
              "time_in_hospital            int64\n",
              "num_lab_procedures          int64\n",
              "num_procedures              int64\n",
              "num_medications             int64\n",
              "number_outpatient           int64\n",
              "number_emergency            int64\n",
              "number_inpatient            int64\n",
              "number_diagnoses            int64\n",
              "max_glu_serum               int64\n",
              "A1Cresult                   int64\n",
              "metformin                   int64\n",
              "repaglinide                 int64\n",
              "nateglinide                 int64\n",
              "chlorpropamide              int64\n",
              "glimepiride                 int64\n",
              "acetohexamide               int64\n",
              "glipizide                   int64\n",
              "glyburide                   int64\n",
              "tolbutamide                 int64\n",
              "pioglitazone                int64\n",
              "rosiglitazone               int64\n",
              "acarbose                    int64\n",
              "miglitol                    int64\n",
              "troglitazone                int64\n",
              "tolazamide                  int64\n",
              "examide                     int64\n",
              "citoglipton                 int64\n",
              "insulin                     int64\n",
              "glyburide-metformin         int64\n",
              "glipizide-metformin         int64\n",
              "glimepiride-pioglitazone    int64\n",
              "metformin-rosiglitazone     int64\n",
              "metformin-pioglitazone      int64\n",
              "change                      int64\n",
              "diabetesMed                 int64\n",
              "diag_1_encoded              int64\n",
              "diag_2_encoded              int64\n",
              "diag_3_encoded              int64\n",
              "dtype: object"
            ]
          },
          "metadata": {},
          "execution_count": 16
        }
      ]
    },
    {
      "cell_type": "code",
      "source": [
        " pandas_df_numeric.isnull().sum()"
      ],
      "metadata": {
        "colab": {
          "base_uri": "https://localhost:8080/"
        },
        "id": "KhUcMVp0j5j-",
        "outputId": "fdc985c1-8fe4-498f-c2bf-b6a6cfbdd519"
      },
      "execution_count": 18,
      "outputs": [
        {
          "output_type": "execute_result",
          "data": {
            "text/plain": [
              "race                        0\n",
              "gender                      0\n",
              "age                         0\n",
              "admission_type_id           0\n",
              "discharge_disposition_id    0\n",
              "admission_source_id         0\n",
              "time_in_hospital            0\n",
              "num_lab_procedures          0\n",
              "num_procedures              0\n",
              "num_medications             0\n",
              "number_outpatient           0\n",
              "number_emergency            0\n",
              "number_inpatient            0\n",
              "number_diagnoses            0\n",
              "max_glu_serum               0\n",
              "A1Cresult                   0\n",
              "metformin                   0\n",
              "repaglinide                 0\n",
              "nateglinide                 0\n",
              "chlorpropamide              0\n",
              "glimepiride                 0\n",
              "acetohexamide               0\n",
              "glipizide                   0\n",
              "glyburide                   0\n",
              "tolbutamide                 0\n",
              "pioglitazone                0\n",
              "rosiglitazone               0\n",
              "acarbose                    0\n",
              "miglitol                    0\n",
              "troglitazone                0\n",
              "tolazamide                  0\n",
              "examide                     0\n",
              "citoglipton                 0\n",
              "insulin                     0\n",
              "glyburide-metformin         0\n",
              "glipizide-metformin         0\n",
              "glimepiride-pioglitazone    0\n",
              "metformin-rosiglitazone     0\n",
              "metformin-pioglitazone      0\n",
              "change                      0\n",
              "diabetesMed                 0\n",
              "diag_1_encoded              0\n",
              "diag_2_encoded              0\n",
              "diag_3_encoded              0\n",
              "dtype: int64"
            ]
          },
          "metadata": {},
          "execution_count": 18
        }
      ]
    }
  ]
}