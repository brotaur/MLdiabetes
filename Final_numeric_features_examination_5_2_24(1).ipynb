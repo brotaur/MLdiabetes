{
  "cells": [
    {
      "cell_type": "code",
      "execution_count": null,
      "metadata": {
        "colab": {
          "base_uri": "https://localhost:8080/"
        },
        "id": "tAfPAWjxXfHi",
        "outputId": "73d1576e-ef34-4bab-a7cb-7bb8a677056f"
      },
      "outputs": [
        {
          "name": "stdout",
          "output_type": "stream",
          "text": [
            "Requirement already satisfied: ucimlrepo in /usr/local/lib/python3.10/dist-packages (0.0.6)\n"
          ]
        },
        {
          "name": "stderr",
          "output_type": "stream",
          "text": [
            "/usr/local/lib/python3.10/dist-packages/ucimlrepo/fetch.py:97: DtypeWarning: Columns (10) have mixed types. Specify dtype option on import or set low_memory=False.\n",
            "  df = pd.read_csv(data_url)\n"
          ]
        },
        {
          "name": "stdout",
          "output_type": "stream",
          "text": [
            "A metadata Description\n",
            "{'uci_id': 296, 'name': 'Diabetes 130-US Hospitals for Years 1999-2008', 'repository_url': 'https://archive.ics.uci.edu/dataset/296/diabetes+130-us+hospitals+for+years+1999-2008', 'data_url': 'https://archive.ics.uci.edu/static/public/296/data.csv', 'abstract': 'The dataset represents ten years (1999-2008) of clinical care at 130 US hospitals and integrated delivery networks. Each row concerns hospital records of patients diagnosed with diabetes, who underwent laboratory, medications, and stayed up to 14 days. The goal is to determine the early readmission of the patient within 30 days of discharge.\\nThe problem is important for the following reasons. Despite high-quality evidence showing improved clinical outcomes for diabetic patients who receive various preventive and therapeutic interventions, many patients do not receive them. This can be partially attributed to arbitrary diabetes management in hospital environments, which fail to attend to glycemic control. Failure to provide proper diabetes care not only increases the managing costs for the hospitals (as the patients are readmitted) but also impacts the morbidity and mortality of the patients, who may face complications associated with diabetes.\\n', 'area': 'Health and Medicine', 'tasks': ['Classification', 'Clustering'], 'characteristics': ['Multivariate'], 'num_instances': 101766, 'num_features': 47, 'feature_types': ['Categorical', 'Integer'], 'demographics': ['Race', 'Gender', 'Age'], 'target_col': ['readmitted'], 'index_col': ['encounter_id', 'patient_nbr'], 'has_missing_values': 'yes', 'missing_values_symbol': 'NaN', 'year_of_dataset_creation': 2014, 'last_updated': 'Mon Feb 26 2024', 'dataset_doi': '10.24432/C5230J', 'creators': ['John Clore', 'Krzysztof Cios', 'Jon DeShazo', 'Beata Strack'], 'intro_paper': {'title': 'Impact of HbA1c Measurement on Hospital Readmission Rates: Analysis of 70,000 Clinical Database Patient Record', 'authors': 'Beata Strack, Jonathan DeShazo, Chris Gennings, Juan Olmo, Sebastian Ventura, Krzysztof Cios, John Clore', 'published_in': 'BioMed Research International, vol. 2014', 'year': 2014, 'url': 'https://www.hindawi.com/journals/bmri/2014/781670/', 'doi': None}, 'additional_info': {'summary': 'The dataset represents ten years (1999-2008) of clinical care at 130 US hospitals and integrated delivery networks. It includes over 50 features representing patient and hospital outcomes. Information was extracted from the database for encounters that satisfied the following criteria.\\n(1)\\tIt is an inpatient encounter (a hospital admission).\\n(2)\\tIt is a diabetic encounter, that is, one during which any kind of diabetes was entered into the system as a diagnosis.\\n(3)\\tThe length of stay was at least 1 day and at most 14 days.\\n(4)\\tLaboratory tests were performed during the encounter.\\n(5)\\tMedications were administered during the encounter.\\n\\nThe data contains such attributes as patient number, race, gender, age, admission type, time in hospital, medical specialty of admitting physician, number of lab tests performed, HbA1c test result, diagnosis, number of medications, diabetic medications, number of outpatient, inpatient, and emergency visits in the year before the hospitalization, etc.', 'purpose': None, 'funded_by': None, 'instances_represent': 'The instances represent hospitalized patient records diagnosed with diabetes.', 'recommended_data_splits': 'No recommendation. The standard train-test split could be used. Can use three-way holdout split (i.e., train-validation-test) when doing model selection.', 'sensitive_data': 'Yes. The dataset contains information about the age, gender, and race of the patients.', 'preprocessing_description': None, 'variable_info': 'Detailed description of all the atrributes is provided in Table 1 Beata Strack, Jonathan P. DeShazo, Chris Gennings,  Juan L. Olmo, Sebastian Ventura,  Krzysztof J. Cios, and John N. Clore, “Impact of HbA1c Measurement on Hospital Readmission Rates: Analysis of 70,000 Clinical Database Patient Records,” BioMed Research International, vol. 2014, Article ID 781670, 11 pages, 2014.\\n\\nhttp://www.hindawi.com/journals/bmri/2014/781670/', 'citation': 'Please cite:\\nBeata Strack, Jonathan P. DeShazo, Chris Gennings, Juan L. Olmo, Sebastian Ventura, Krzysztof J. Cios, and John N. Clore, “Impact of HbA1c Measurement on Hospital Readmission Rates: Analysis of 70,000 Clinical Database Patient Records,” BioMed Research International, vol. 2014, Article ID 781670, 11 pages, 2014.'}}\n",
            "None\n",
            "                        name     role         type demographic  \\\n",
            "0               encounter_id       ID                     None   \n",
            "1                patient_nbr       ID                     None   \n",
            "2                       race  Feature  Categorical        Race   \n",
            "3                     gender  Feature  Categorical      Gender   \n",
            "4                        age  Feature  Categorical         Age   \n",
            "5                     weight  Feature  Categorical        None   \n",
            "6          admission_type_id  Feature  Categorical        None   \n",
            "7   discharge_disposition_id  Feature  Categorical        None   \n",
            "8        admission_source_id  Feature  Categorical        None   \n",
            "9           time_in_hospital  Feature      Integer        None   \n",
            "10                payer_code  Feature  Categorical        None   \n",
            "11         medical_specialty  Feature  Categorical        None   \n",
            "12        num_lab_procedures  Feature      Integer        None   \n",
            "13            num_procedures  Feature      Integer        None   \n",
            "14           num_medications  Feature      Integer        None   \n",
            "15         number_outpatient  Feature      Integer        None   \n",
            "16          number_emergency  Feature      Integer        None   \n",
            "17          number_inpatient  Feature      Integer        None   \n",
            "18                    diag_1  Feature  Categorical        None   \n",
            "19                    diag_2  Feature  Categorical        None   \n",
            "20                    diag_3  Feature  Categorical        None   \n",
            "21          number_diagnoses  Feature      Integer        None   \n",
            "22             max_glu_serum  Feature  Categorical        None   \n",
            "23                 A1Cresult  Feature  Categorical        None   \n",
            "24                 metformin  Feature  Categorical        None   \n",
            "25               repaglinide  Feature  Categorical        None   \n",
            "26               nateglinide  Feature  Categorical        None   \n",
            "27            chlorpropamide  Feature  Categorical        None   \n",
            "28               glimepiride  Feature  Categorical        None   \n",
            "29             acetohexamide  Feature  Categorical        None   \n",
            "30                 glipizide  Feature  Categorical        None   \n",
            "31                 glyburide  Feature  Categorical        None   \n",
            "32               tolbutamide  Feature  Categorical        None   \n",
            "33              pioglitazone  Feature  Categorical        None   \n",
            "34             rosiglitazone  Feature  Categorical        None   \n",
            "35                  acarbose  Feature  Categorical        None   \n",
            "36                  miglitol  Feature  Categorical        None   \n",
            "37              troglitazone  Feature  Categorical        None   \n",
            "38                tolazamide  Feature  Categorical        None   \n",
            "39                   examide  Feature  Categorical        None   \n",
            "40               citoglipton  Feature  Categorical        None   \n",
            "41                   insulin  Feature  Categorical        None   \n",
            "42       glyburide-metformin  Feature  Categorical        None   \n",
            "43       glipizide-metformin  Feature  Categorical        None   \n",
            "44  glimepiride-pioglitazone  Feature  Categorical        None   \n",
            "45   metformin-rosiglitazone  Feature  Categorical        None   \n",
            "46    metformin-pioglitazone  Feature  Categorical        None   \n",
            "47                    change  Feature  Categorical        None   \n",
            "48               diabetesMed  Feature  Categorical        None   \n",
            "49                readmitted   Target  Categorical        None   \n",
            "\n",
            "                                          description units missing_values  \n",
            "0                   Unique identifier of an encounter  None             no  \n",
            "1                      Unique identifier of a patient  None             no  \n",
            "2   Values: Caucasian, Asian, African American, Hi...  None            yes  \n",
            "3           Values: male, female, and unknown/invalid  None             no  \n",
            "4   Grouped in 10-year intervals: [0, 10), [10, 20...  None             no  \n",
            "5                                   Weight in pounds.  None            yes  \n",
            "6   Integer identifier corresponding to 9 distinct...  None             no  \n",
            "7   Integer identifier corresponding to 29 distinc...  None             no  \n",
            "8   Integer identifier corresponding to 21 distinc...  None             no  \n",
            "9   Integer number of days between admission and d...  None             no  \n",
            "10  Integer identifier corresponding to 23 distinc...  None            yes  \n",
            "11  Integer identifier of a specialty of the admit...  None            yes  \n",
            "12  Number of lab tests performed during the encou...  None             no  \n",
            "13  Number of procedures (other than lab tests) pe...  None             no  \n",
            "14  Number of distinct generic names administered ...  None             no  \n",
            "15  Number of outpatient visits of the patient in ...  None             no  \n",
            "16  Number of emergency visits of the patient in t...  None             no  \n",
            "17  Number of inpatient visits of the patient in t...  None             no  \n",
            "18  The primary diagnosis (coded as first three di...  None            yes  \n",
            "19  Secondary diagnosis (coded as first three digi...  None            yes  \n",
            "20  Additional secondary diagnosis (coded as first...  None            yes  \n",
            "21          Number of diagnoses entered to the system  None             no  \n",
            "22  Indicates the range of the result or if the te...  None             no  \n",
            "23  Indicates the range of the result or if the te...  None             no  \n",
            "24  The feature indicates whether the drug was pre...  None             no  \n",
            "25  The feature indicates whether the drug was pre...  None             no  \n",
            "26  The feature indicates whether the drug was pre...  None             no  \n",
            "27  The feature indicates whether the drug was pre...  None             no  \n",
            "28  The feature indicates whether the drug was pre...  None             no  \n",
            "29  The feature indicates whether the drug was pre...  None             no  \n",
            "30  The feature indicates whether the drug was pre...  None             no  \n",
            "31  The feature indicates whether the drug was pre...  None             no  \n",
            "32  The feature indicates whether the drug was pre...  None             no  \n",
            "33  The feature indicates whether the drug was pre...  None             no  \n",
            "34  The feature indicates whether the drug was pre...  None             no  \n",
            "35  The feature indicates whether the drug was pre...  None             no  \n",
            "36  The feature indicates whether the drug was pre...  None             no  \n",
            "37  The feature indicates whether the drug was pre...  None             no  \n",
            "38  The feature indicates whether the drug was pre...  None             no  \n",
            "39  The feature indicates whether the drug was pre...  None             no  \n",
            "40  The feature indicates whether the drug was pre...  None             no  \n",
            "41  The feature indicates whether the drug was pre...  None             no  \n",
            "42  The feature indicates whether the drug was pre...  None             no  \n",
            "43  The feature indicates whether the drug was pre...  None             no  \n",
            "44  The feature indicates whether the drug was pre...  None             no  \n",
            "45  The feature indicates whether the drug was pre...  None             no  \n",
            "46  The feature indicates whether the drug was pre...  None             no  \n",
            "47  Indicates if there was a change in diabetic me...  None             no  \n",
            "48  Indicates if there was any diabetic medication...  None             no  \n",
            "49  Days to inpatient readmission. Values: <30 if ...  None             no  \n",
            "Number of NaN values per feature/column before cleaning:\n",
            "race                         2273\n",
            "gender                          0\n",
            "age                             0\n",
            "weight                      98569\n",
            "admission_type_id               0\n",
            "discharge_disposition_id        0\n",
            "admission_source_id             0\n",
            "time_in_hospital                0\n",
            "payer_code                  40256\n",
            "medical_specialty           49949\n",
            "num_lab_procedures              0\n",
            "num_procedures                  0\n",
            "num_medications                 0\n",
            "number_outpatient               0\n",
            "number_emergency                0\n",
            "number_inpatient                0\n",
            "diag_1                         21\n",
            "diag_2                        358\n",
            "diag_3                       1423\n",
            "number_diagnoses                0\n",
            "max_glu_serum               96420\n",
            "A1Cresult                   84748\n",
            "metformin                       0\n",
            "repaglinide                     0\n",
            "nateglinide                     0\n",
            "chlorpropamide                  0\n",
            "glimepiride                     0\n",
            "acetohexamide                   0\n",
            "glipizide                       0\n",
            "glyburide                       0\n",
            "tolbutamide                     0\n",
            "pioglitazone                    0\n",
            "rosiglitazone                   0\n",
            "acarbose                        0\n",
            "miglitol                        0\n",
            "troglitazone                    0\n",
            "tolazamide                      0\n",
            "examide                         0\n",
            "citoglipton                     0\n",
            "insulin                         0\n",
            "glyburide-metformin             0\n",
            "glipizide-metformin             0\n",
            "glimepiride-pioglitazone        0\n",
            "metformin-rosiglitazone         0\n",
            "metformin-pioglitazone          0\n",
            "change                          0\n",
            "diabetesMed                     0\n",
            "dtype: int64\n",
            "Number of NaN values in target column:\n",
            "readmitted    0\n",
            "dtype: int64\n",
            "DataFrame with only integer columns:\n",
            "   admission_type_id  discharge_disposition_id  admission_source_id  \\\n",
            "0                  6                        25                    1   \n",
            "1                  1                         1                    7   \n",
            "2                  1                         1                    7   \n",
            "3                  1                         1                    7   \n",
            "4                  1                         1                    7   \n",
            "\n",
            "   time_in_hospital  num_lab_procedures  num_procedures  num_medications  \\\n",
            "0                 1                  41               0                1   \n",
            "1                 3                  59               0               18   \n",
            "2                 2                  11               5               13   \n",
            "3                 2                  44               1               16   \n",
            "4                 1                  51               0                8   \n",
            "\n",
            "   number_outpatient  number_emergency  number_inpatient  number_diagnoses  \n",
            "0                  0                 0                 0                 1  \n",
            "1                  0                 0                 0                 9  \n",
            "2                  2                 0                 1                 6  \n",
            "3                  0                 0                 0                 7  \n",
            "4                  0                 0                 0                 5  \n",
            "Data types of the columns in the new DataFrame:\n",
            "admission_type_id           int64\n",
            "discharge_disposition_id    int64\n",
            "admission_source_id         int64\n",
            "time_in_hospital            int64\n",
            "num_lab_procedures          int64\n",
            "num_procedures              int64\n",
            "num_medications             int64\n",
            "number_outpatient           int64\n",
            "number_emergency            int64\n",
            "number_inpatient            int64\n",
            "number_diagnoses            int64\n",
            "dtype: object\n",
            "Number of NaN values per feature/column before cleaning:\n",
            "admission_type_id           0\n",
            "discharge_disposition_id    0\n",
            "admission_source_id         0\n",
            "time_in_hospital            0\n",
            "num_lab_procedures          0\n",
            "num_procedures              0\n",
            "num_medications             0\n",
            "number_outpatient           0\n",
            "number_emergency            0\n",
            "number_inpatient            0\n",
            "number_diagnoses            0\n",
            "dtype: int64\n"
          ]
        }
      ],
      "source": [
        "import pandas as pd\n",
        "!pip3 install -U ucimlrepo\n",
        "from ucimlrepo import fetch_ucirepo\n",
        "# fetch dataset\n",
        "dia_130 = fetch_ucirepo(id=296)\n",
        "# metadata\n",
        "print(\"A metadata Description\")\n",
        "print(dia_130.metadata)\n",
        "\n",
        "print(dia_130.shape)\n",
        "\n",
        "#variable information\n",
        "print(dia_130.variables)\n",
        "# data (as pandas dataframes)\n",
        "X_130 = dia_130.data.features\n",
        "y_130 = dia_130.data.targets\n",
        "pandas_df = pd.DataFrame(X_130, columns=dia_130.feature_names)\n",
        "\n",
        "# Counting NaNs in each column\n",
        "nan_counts = pandas_df.isnull().sum()\n",
        "\n",
        "print(\"Number of NaN values per feature/column before cleaning:\")\n",
        "print(nan_counts)\n",
        "\n",
        "# NaN counts for the target variable:\n",
        "nan_counts_targets = pd.DataFrame(y_130).isnull().sum()\n",
        "print(\"Number of NaN values in target column:\")\n",
        "print(nan_counts_targets)\n",
        "\n",
        "integer_df = pandas_df.select_dtypes(include=['int64'])\n",
        "\n",
        "# Display the new DataFrame with only integer columns\n",
        "print(\"DataFrame with only integer columns:\")\n",
        "print(integer_df.head())\n",
        "\n",
        "print(\"Data types of the columns in the new DataFrame:\")\n",
        "print(integer_df.dtypes)\n",
        "\n",
        "# Counting NaNs in each column\n",
        "nan_counts = integer_df.isnull().sum()\n",
        "\n",
        "print(\"Number of NaN values per feature/column before cleaning:\")\n",
        "print(nan_counts)"
      ]
    },
    {
      "cell_type": "markdown",
      "metadata": {
        "id": "MBwI70HvY6F4"
      },
      "source": [
        "Normalized and scaled data"
      ]
    },
    {
      "cell_type": "code",
      "execution_count": null,
      "metadata": {
        "id": "JxaQCAoIY4kT"
      },
      "outputs": [],
      "source": [
        "from sklearn.preprocessing import StandardScaler\n",
        "\n",
        "scaler = StandardScaler()\n",
        "integer_df_scaled = pd.DataFrame(scaler.fit_transform(integer_df), columns=integer_df.columns)"
      ]
    },
    {
      "cell_type": "markdown",
      "metadata": {
        "id": "npFGqrnrY9yU"
      },
      "source": [
        "SelectKBest or Random forest to identify top variables"
      ]
    },
    {
      "cell_type": "code",
      "execution_count": null,
      "metadata": {
        "colab": {
          "base_uri": "https://localhost:8080/"
        },
        "id": "FDCYJJOOY9hZ",
        "outputId": "f03dd997-0ac1-4572-ede1-2d956bec3e47"
      },
      "outputs": [
        {
          "name": "stdout",
          "output_type": "stream",
          "text": [
            "Top 10 features selected by SelectKBest: Index(['discharge_disposition_id', 'admission_source_id', 'time_in_hospital',\n",
            "       'num_lab_procedures', 'num_procedures', 'num_medications',\n",
            "       'number_outpatient', 'number_emergency', 'number_inpatient',\n",
            "       'number_diagnoses'],\n",
            "      dtype='object')\n",
            "Top 10 features selected by Random Forest: Index(['num_lab_procedures', 'num_medications', 'time_in_hospital',\n",
            "       'num_procedures', 'number_diagnoses', 'discharge_disposition_id',\n",
            "       'number_inpatient', 'admission_type_id', 'admission_source_id',\n",
            "       'number_outpatient'],\n",
            "      dtype='object')\n"
          ]
        }
      ],
      "source": [
        "import numpy as np\n",
        "from sklearn.feature_selection import SelectKBest, f_classif\n",
        "from sklearn.ensemble import RandomForestClassifier\n",
        "\n",
        "# Convert y_130 to a 1D array using ravel()\n",
        "y_130_1d = y_130.values.ravel()\n",
        "\n",
        "# SelectKBest\n",
        "selector = SelectKBest(score_func=f_classif, k=10)\n",
        "X_selected = selector.fit_transform(integer_df_scaled, y_130_1d)\n",
        "selected_features = selector.get_support(indices=True)\n",
        "print(\"Top 10 features selected by SelectKBest:\", integer_df_scaled.columns[selected_features])\n",
        "\n",
        "# Random Forest\n",
        "rf = RandomForestClassifier(n_estimators=100)\n",
        "rf.fit(integer_df_scaled, y_130_1d)\n",
        "importances = rf.feature_importances_\n",
        "indices = np.argsort(importances)[::-1]\n",
        "print(\"Top 10 features selected by Random Forest:\", integer_df_scaled.columns[indices[:10]])"
      ]
    },
    {
      "cell_type": "markdown",
      "metadata": {
        "id": "th-niD4MZHem"
      },
      "source": [
        "Trying different rebalancing and splitting strategies"
      ]
    },
    {
      "cell_type": "code",
      "execution_count": null,
      "metadata": {
        "id": "6MXdv2k5ZCTS"
      },
      "outputs": [],
      "source": [
        "from sklearn.model_selection import train_test_split\n",
        "from imblearn.over_sampling import SMOTE\n",
        "\n",
        "# Stratified split\n",
        "X_train, X_test, y_train, y_test = train_test_split(integer_df_scaled, y_130_1d, test_size=0.2, stratify=y_130_1d)\n",
        "\n",
        "# SMOTE only in training\n",
        "smote = SMOTE()\n",
        "X_train_resampled, y_train_resampled = smote.fit_resample(X_train, y_train)"
      ]
    },
    {
      "cell_type": "markdown",
      "metadata": {
        "id": "bBN8f_QNZgY0"
      },
      "source": [
        "Fitting model on key features"
      ]
    },
    {
      "cell_type": "code",
      "execution_count": null,
      "metadata": {
        "colab": {
          "base_uri": "https://localhost:8080/",
          "height": 75
        },
        "id": "AIZMxG9zZkz5",
        "outputId": "7e55035f-adc0-45bf-9c6e-03f6b6aeef97"
      },
      "outputs": [
        {
          "data": {
            "text/html": [
              "<style>#sk-container-id-1 {color: black;background-color: white;}#sk-container-id-1 pre{padding: 0;}#sk-container-id-1 div.sk-toggleable {background-color: white;}#sk-container-id-1 label.sk-toggleable__label {cursor: pointer;display: block;width: 100%;margin-bottom: 0;padding: 0.3em;box-sizing: border-box;text-align: center;}#sk-container-id-1 label.sk-toggleable__label-arrow:before {content: \"▸\";float: left;margin-right: 0.25em;color: #696969;}#sk-container-id-1 label.sk-toggleable__label-arrow:hover:before {color: black;}#sk-container-id-1 div.sk-estimator:hover label.sk-toggleable__label-arrow:before {color: black;}#sk-container-id-1 div.sk-toggleable__content {max-height: 0;max-width: 0;overflow: hidden;text-align: left;background-color: #f0f8ff;}#sk-container-id-1 div.sk-toggleable__content pre {margin: 0.2em;color: black;border-radius: 0.25em;background-color: #f0f8ff;}#sk-container-id-1 input.sk-toggleable__control:checked~div.sk-toggleable__content {max-height: 200px;max-width: 100%;overflow: auto;}#sk-container-id-1 input.sk-toggleable__control:checked~label.sk-toggleable__label-arrow:before {content: \"▾\";}#sk-container-id-1 div.sk-estimator input.sk-toggleable__control:checked~label.sk-toggleable__label {background-color: #d4ebff;}#sk-container-id-1 div.sk-label input.sk-toggleable__control:checked~label.sk-toggleable__label {background-color: #d4ebff;}#sk-container-id-1 input.sk-hidden--visually {border: 0;clip: rect(1px 1px 1px 1px);clip: rect(1px, 1px, 1px, 1px);height: 1px;margin: -1px;overflow: hidden;padding: 0;position: absolute;width: 1px;}#sk-container-id-1 div.sk-estimator {font-family: monospace;background-color: #f0f8ff;border: 1px dotted black;border-radius: 0.25em;box-sizing: border-box;margin-bottom: 0.5em;}#sk-container-id-1 div.sk-estimator:hover {background-color: #d4ebff;}#sk-container-id-1 div.sk-parallel-item::after {content: \"\";width: 100%;border-bottom: 1px solid gray;flex-grow: 1;}#sk-container-id-1 div.sk-label:hover label.sk-toggleable__label {background-color: #d4ebff;}#sk-container-id-1 div.sk-serial::before {content: \"\";position: absolute;border-left: 1px solid gray;box-sizing: border-box;top: 0;bottom: 0;left: 50%;z-index: 0;}#sk-container-id-1 div.sk-serial {display: flex;flex-direction: column;align-items: center;background-color: white;padding-right: 0.2em;padding-left: 0.2em;position: relative;}#sk-container-id-1 div.sk-item {position: relative;z-index: 1;}#sk-container-id-1 div.sk-parallel {display: flex;align-items: stretch;justify-content: center;background-color: white;position: relative;}#sk-container-id-1 div.sk-item::before, #sk-container-id-1 div.sk-parallel-item::before {content: \"\";position: absolute;border-left: 1px solid gray;box-sizing: border-box;top: 0;bottom: 0;left: 50%;z-index: -1;}#sk-container-id-1 div.sk-parallel-item {display: flex;flex-direction: column;z-index: 1;position: relative;background-color: white;}#sk-container-id-1 div.sk-parallel-item:first-child::after {align-self: flex-end;width: 50%;}#sk-container-id-1 div.sk-parallel-item:last-child::after {align-self: flex-start;width: 50%;}#sk-container-id-1 div.sk-parallel-item:only-child::after {width: 0;}#sk-container-id-1 div.sk-dashed-wrapped {border: 1px dashed gray;margin: 0 0.4em 0.5em 0.4em;box-sizing: border-box;padding-bottom: 0.4em;background-color: white;}#sk-container-id-1 div.sk-label label {font-family: monospace;font-weight: bold;display: inline-block;line-height: 1.2em;}#sk-container-id-1 div.sk-label-container {text-align: center;}#sk-container-id-1 div.sk-container {/* jupyter's `normalize.less` sets `[hidden] { display: none; }` but bootstrap.min.css set `[hidden] { display: none !important; }` so we also need the `!important` here to be able to override the default hidden behavior on the sphinx rendered scikit-learn.org. See: https://github.com/scikit-learn/scikit-learn/issues/21755 */display: inline-block !important;position: relative;}#sk-container-id-1 div.sk-text-repr-fallback {display: none;}</style><div id=\"sk-container-id-1\" class=\"sk-top-container\"><div class=\"sk-text-repr-fallback\"><pre>LogisticRegression()</pre><b>In a Jupyter environment, please rerun this cell to show the HTML representation or trust the notebook. <br />On GitHub, the HTML representation is unable to render, please try loading this page with nbviewer.org.</b></div><div class=\"sk-container\" hidden><div class=\"sk-item\"><div class=\"sk-estimator sk-toggleable\"><input class=\"sk-toggleable__control sk-hidden--visually\" id=\"sk-estimator-id-1\" type=\"checkbox\" checked><label for=\"sk-estimator-id-1\" class=\"sk-toggleable__label sk-toggleable__label-arrow\">LogisticRegression</label><div class=\"sk-toggleable__content\"><pre>LogisticRegression()</pre></div></div></div></div></div>"
            ],
            "text/plain": [
              "LogisticRegression()"
            ]
          },
          "execution_count": 6,
          "metadata": {},
          "output_type": "execute_result"
        }
      ],
      "source": [
        "from sklearn.linear_model import LogisticRegression\n",
        "\n",
        "key_features_kbest = ['discharge_disposition_id', 'admission_source_id', 'time_in_hospital']\n",
        "X_train_key_kbest = X_train_resampled[key_features_kbest]\n",
        "X_test_key_kbest = X_test[key_features_kbest]\n",
        "model_kbest = LogisticRegression()\n",
        "model_kbest.fit(X_train_key_kbest, y_train_resampled.ravel())\n",
        "\n",
        "key_features_rf = ['num_lab_procedures', 'num_medications', 'time_in_hospital']\n",
        "X_train_key_rf = X_train_resampled[key_features_rf]\n",
        "X_test_key_rf = X_test[key_features_rf]\n",
        "model_rf = LogisticRegression()\n",
        "model_rf.fit(X_train_key_rf, y_train_resampled.ravel())"
      ]
    },
    {
      "cell_type": "markdown",
      "metadata": {
        "id": "RjAGWcbgZqRy"
      },
      "source": [
        "Tuning hyperparameters and evaluate the model"
      ]
    },
    {
      "cell_type": "code",
      "execution_count": null,
      "metadata": {
        "colab": {
          "base_uri": "https://localhost:8080/"
        },
        "id": "Fy-ZnsxMZmA-",
        "outputId": "585111e1-d6e8-4ff6-da0a-1ecd04fa0ebb"
      },
      "outputs": [
        {
          "name": "stderr",
          "output_type": "stream",
          "text": [
            "/usr/local/lib/python3.10/dist-packages/sklearn/linear_model/_logistic.py:1181: UserWarning: Setting penalty=None will ignore the C and l1_ratio parameters\n",
            "  warnings.warn(\n",
            "/usr/local/lib/python3.10/dist-packages/sklearn/linear_model/_logistic.py:1181: UserWarning: Setting penalty=None will ignore the C and l1_ratio parameters\n",
            "  warnings.warn(\n",
            "/usr/local/lib/python3.10/dist-packages/sklearn/linear_model/_logistic.py:1181: UserWarning: Setting penalty=None will ignore the C and l1_ratio parameters\n",
            "  warnings.warn(\n",
            "/usr/local/lib/python3.10/dist-packages/sklearn/linear_model/_logistic.py:1181: UserWarning: Setting penalty=None will ignore the C and l1_ratio parameters\n",
            "  warnings.warn(\n",
            "/usr/local/lib/python3.10/dist-packages/sklearn/linear_model/_logistic.py:1181: UserWarning: Setting penalty=None will ignore the C and l1_ratio parameters\n",
            "  warnings.warn(\n",
            "/usr/local/lib/python3.10/dist-packages/sklearn/linear_model/_logistic.py:1181: UserWarning: Setting penalty=None will ignore the C and l1_ratio parameters\n",
            "  warnings.warn(\n",
            "/usr/local/lib/python3.10/dist-packages/sklearn/linear_model/_logistic.py:1181: UserWarning: Setting penalty=None will ignore the C and l1_ratio parameters\n",
            "  warnings.warn(\n",
            "/usr/local/lib/python3.10/dist-packages/sklearn/linear_model/_logistic.py:1181: UserWarning: Setting penalty=None will ignore the C and l1_ratio parameters\n",
            "  warnings.warn(\n",
            "/usr/local/lib/python3.10/dist-packages/sklearn/linear_model/_logistic.py:1181: UserWarning: Setting penalty=None will ignore the C and l1_ratio parameters\n",
            "  warnings.warn(\n",
            "/usr/local/lib/python3.10/dist-packages/sklearn/linear_model/_logistic.py:1181: UserWarning: Setting penalty=None will ignore the C and l1_ratio parameters\n",
            "  warnings.warn(\n",
            "/usr/local/lib/python3.10/dist-packages/sklearn/linear_model/_logistic.py:1181: UserWarning: Setting penalty=None will ignore the C and l1_ratio parameters\n",
            "  warnings.warn(\n",
            "/usr/local/lib/python3.10/dist-packages/sklearn/linear_model/_logistic.py:1181: UserWarning: Setting penalty=None will ignore the C and l1_ratio parameters\n",
            "  warnings.warn(\n",
            "/usr/local/lib/python3.10/dist-packages/sklearn/linear_model/_logistic.py:1181: UserWarning: Setting penalty=None will ignore the C and l1_ratio parameters\n",
            "  warnings.warn(\n",
            "/usr/local/lib/python3.10/dist-packages/sklearn/linear_model/_logistic.py:1181: UserWarning: Setting penalty=None will ignore the C and l1_ratio parameters\n",
            "  warnings.warn(\n",
            "/usr/local/lib/python3.10/dist-packages/sklearn/linear_model/_logistic.py:1181: UserWarning: Setting penalty=None will ignore the C and l1_ratio parameters\n",
            "  warnings.warn(\n",
            "/usr/local/lib/python3.10/dist-packages/sklearn/linear_model/_logistic.py:1181: UserWarning: Setting penalty=None will ignore the C and l1_ratio parameters\n",
            "  warnings.warn(\n",
            "/usr/local/lib/python3.10/dist-packages/sklearn/linear_model/_logistic.py:1181: UserWarning: Setting penalty=None will ignore the C and l1_ratio parameters\n",
            "  warnings.warn(\n",
            "/usr/local/lib/python3.10/dist-packages/sklearn/linear_model/_logistic.py:1181: UserWarning: Setting penalty=None will ignore the C and l1_ratio parameters\n",
            "  warnings.warn(\n",
            "/usr/local/lib/python3.10/dist-packages/sklearn/linear_model/_logistic.py:1181: UserWarning: Setting penalty=None will ignore the C and l1_ratio parameters\n",
            "  warnings.warn(\n",
            "/usr/local/lib/python3.10/dist-packages/sklearn/linear_model/_logistic.py:1181: UserWarning: Setting penalty=None will ignore the C and l1_ratio parameters\n",
            "  warnings.warn(\n"
          ]
        },
        {
          "name": "stdout",
          "output_type": "stream",
          "text": [
            "AUC Scores - SelectKBest:\n",
            "Iteration 1 - AUC: 0.552\n",
            "Iteration 2 - AUC: 0.553\n",
            "Iteration 3 - AUC: 0.552\n",
            "AUC Scores - Random Forest:\n",
            "Iteration 1 - AUC: 0.541\n",
            "Iteration 2 - AUC: 0.541\n",
            "Iteration 3 - AUC: 0.541\n"
          ]
        }
      ],
      "source": [
        "from sklearn.model_selection import GridSearchCV\n",
        "from sklearn.metrics import roc_auc_score\n",
        "\n",
        "# Iteration 1 - Using key features from SelectKBest\n",
        "param_grid_1_kbest = {\n",
        "    'C': [0.1, 1, 10],\n",
        "    'penalty': ['l2', None]\n",
        "}\n",
        "grid_search_1_kbest = GridSearchCV(estimator=model_kbest, param_grid=param_grid_1_kbest, scoring='roc_auc_ovr', cv=5)\n",
        "grid_search_1_kbest.fit(X_train_key_kbest, y_train_resampled.ravel())\n",
        "best_model_1_kbest = grid_search_1_kbest.best_estimator_\n",
        "if best_model_1_kbest.get_params()['penalty'] == 'none':\n",
        "    best_model_1_kbest.set_params(penalty=None)\n",
        "y_pred_proba_1_kbest = best_model_1_kbest.predict_proba(X_test_key_kbest)\n",
        "auc_1_kbest = roc_auc_score(y_test, y_pred_proba_1_kbest, multi_class='ovr')\n",
        "\n",
        "# Iteration 2 - Using key features from SelectKBest\n",
        "param_grid_2_kbest = {\n",
        "    'C': [0.1, 1, 10],\n",
        "    'penalty': ['l1', 'l2'],\n",
        "    'solver': ['liblinear', 'saga']\n",
        "}\n",
        "grid_search_2_kbest = GridSearchCV(estimator=model_kbest, param_grid=param_grid_2_kbest, scoring='roc_auc_ovr', cv=5)\n",
        "grid_search_2_kbest.fit(X_train_key_kbest, y_train_resampled.ravel())\n",
        "best_model_2_kbest = grid_search_2_kbest.best_estimator_\n",
        "y_pred_proba_2_kbest = best_model_2_kbest.predict_proba(X_test_key_kbest)\n",
        "auc_2_kbest = roc_auc_score(y_test, y_pred_proba_2_kbest, multi_class='ovr')\n",
        "\n",
        "# Iteration 3 - Using key features from SelectKBest\n",
        "param_grid_3_kbest = {\n",
        "    'C': [0.1, 1, 10]\n",
        "}\n",
        "grid_search_3_kbest = GridSearchCV(estimator=model_kbest, param_grid=param_grid_3_kbest, scoring='roc_auc_ovr', cv=5)\n",
        "grid_search_3_kbest.fit(X_train_key_kbest, y_train_resampled.ravel())\n",
        "best_model_3_kbest = grid_search_3_kbest.best_estimator_\n",
        "y_pred_proba_3_kbest = best_model_3_kbest.predict_proba(X_test_key_kbest)\n",
        "auc_3_kbest = roc_auc_score(y_test, y_pred_proba_3_kbest, multi_class='ovr')\n",
        "\n",
        "# Iteration 1 - Using key features from Random Forest\n",
        "param_grid_1_rf = {\n",
        "    'C': [0.1, 1, 10],\n",
        "    'penalty': ['l2', None]\n",
        "}\n",
        "grid_search_1_rf = GridSearchCV(estimator=model_rf, param_grid=param_grid_1_rf, scoring='roc_auc_ovr', cv=5)\n",
        "grid_search_1_rf.fit(X_train_key_rf, y_train_resampled.ravel())\n",
        "best_model_1_rf = grid_search_1_rf.best_estimator_\n",
        "if best_model_1_rf.get_params()['penalty'] == 'none':\n",
        "    best_model_1_rf.set_params(penalty=None)\n",
        "y_pred_proba_1_rf = best_model_1_rf.predict_proba(X_test_key_rf)\n",
        "auc_1_rf = roc_auc_score(y_test, y_pred_proba_1_rf, multi_class='ovr')\n",
        "\n",
        "# Iteration 2 - Using key features from Random Forest\n",
        "param_grid_2_rf = {\n",
        "    'C': [0.1, 1, 10],\n",
        "    'penalty': ['l1', 'l2'],\n",
        "    'solver': ['liblinear', 'saga']\n",
        "}\n",
        "grid_search_2_rf = GridSearchCV(estimator=model_rf, param_grid=param_grid_2_rf, scoring='roc_auc_ovr', cv=5)\n",
        "grid_search_2_rf.fit(X_train_key_rf, y_train_resampled.ravel())\n",
        "best_model_2_rf = grid_search_2_rf.best_estimator_\n",
        "y_pred_proba_2_rf = best_model_2_rf.predict_proba(X_test_key_rf)\n",
        "auc_2_rf = roc_auc_score(y_test, y_pred_proba_2_rf, multi_class='ovr')\n",
        "\n",
        "# Iteration 3 - Using key features from Random Forest\n",
        "param_grid_3_rf = {\n",
        "    'C': [0.1, 1, 10]\n",
        "}\n",
        "grid_search_3_rf = GridSearchCV(estimator=model_rf, param_grid=param_grid_3_rf, scoring='roc_auc_ovr', cv=5)\n",
        "grid_search_3_rf.fit(X_train_key_rf, y_train_resampled.ravel())\n",
        "best_model_3_rf = grid_search_3_rf.best_estimator_\n",
        "y_pred_proba_3_rf = best_model_3_rf.predict_proba(X_test_key_rf)\n",
        "auc_3_rf = roc_auc_score(y_test, y_pred_proba_3_rf, multi_class='ovr')\n",
        "\n",
        "# Print AUC scores for all iterations\n",
        "print(\"AUC Scores - SelectKBest:\")\n",
        "print(\"Iteration 1 - AUC: {:.3f}\".format(auc_1_kbest))\n",
        "print(\"Iteration 2 - AUC: {:.3f}\".format(auc_2_kbest))\n",
        "print(\"Iteration 3 - AUC: {:.3f}\".format(auc_3_kbest))\n",
        "print(\"AUC Scores - Random Forest:\")\n",
        "print(\"Iteration 1 - AUC: {:.3f}\".format(auc_1_rf))\n",
        "print(\"Iteration 2 - AUC: {:.3f}\".format(auc_2_rf))\n",
        "print(\"Iteration 3 - AUC: {:.3f}\".format(auc_3_rf))"
      ]
    },
    {
      "cell_type": "markdown",
      "metadata": {
        "id": "h87cGy76fT5y"
      },
      "source": [
        "In code snippet above:\n",
        "\n",
        "    Iteration 1 uses the parameter grid param_grid_1 with 'l2' and 'none' penalties.\n",
        "    Iteration 2 uses the parameter grid param_grid_2 with 'l1' and 'l2' penalties and 'liblinear' and 'saga' solvers.\n",
        "    Iteration 3 uses the parameter grid param_grid_3 with only the 'C' parameter.\n",
        "\n",
        "Each iteration performs the following steps:\n",
        "\n",
        "    Defines the parameter grid for the specific iteration.\n",
        "    Creates a GridSearchCV object with the specified parameter grid and other settings.\n",
        "    Fits the grid search object on the training data.\n",
        "    Retrieves the best model found by the grid search.\n",
        "    Makes predictions using the best model on the test data.\n",
        "    Calculates the AUC score using the roc_auc_score function with the multi_class='ovr' option.\n",
        "    Prints the AUC score for the specific iteration.\n"
      ]
    },
    {
      "cell_type": "markdown",
      "metadata": {
        "id": "Aabq5K6bmKkt"
      },
      "source": [
        "The previous AUC scores aren't great, let's make some modifications:"
      ]
    },
    {
      "cell_type": "code",
      "execution_count": null,
      "metadata": {
        "colab": {
          "base_uri": "https://localhost:8080/"
        },
        "id": "qibYzVb-uMLP",
        "outputId": "b728894b-1ab2-4586-85e9-37256e32b1fd"
      },
      "outputs": [
        {
          "name": "stdout",
          "output_type": "stream",
          "text": [
            "Best Hyperparameters - SelectKBest: {'C': 0.1, 'class_weight': 'balanced', 'penalty': 'l1', 'solver': 'liblinear'}\n",
            "AUC Score - SelectKBest: 0.553\n",
            "Best Hyperparameters - Random Forest: {'C': 0.1, 'class_weight': None, 'penalty': 'l1', 'solver': 'saga'}\n",
            "AUC Score - Random Forest: 0.541\n"
          ]
        }
      ],
      "source": [
        "from sklearn.model_selection import GridSearchCV\n",
        "from sklearn.metrics import roc_auc_score\n",
        "\n",
        "# Reduced hyperparameter grid for SelectKBest model\n",
        "param_grid_kbest = {\n",
        "    'C': [0.1, 1, 10],\n",
        "    'penalty': ['l1', 'l2'],\n",
        "    'solver': ['liblinear', 'saga'],\n",
        "    'class_weight': ['balanced', None]\n",
        "}\n",
        "grid_search_kbest = GridSearchCV(estimator=model_kbest, param_grid=param_grid_kbest, scoring='roc_auc_ovr', cv=5)\n",
        "grid_search_kbest.fit(X_train_key_kbest, y_train_resampled.ravel())\n",
        "best_model_kbest = grid_search_kbest.best_estimator_\n",
        "y_pred_proba_kbest = best_model_kbest.predict_proba(X_test_key_kbest)\n",
        "auc_kbest = roc_auc_score(y_test, y_pred_proba_kbest, multi_class='ovr')\n",
        "\n",
        "# Reduced hyperparameter grid for Random Forest model\n",
        "param_grid_rf = {\n",
        "    'C': [0.1, 1, 10],\n",
        "    'penalty': ['l1', 'l2'],\n",
        "    'solver': ['liblinear', 'saga'],\n",
        "    'class_weight': ['balanced', None]\n",
        "}\n",
        "grid_search_rf = GridSearchCV(estimator=model_rf, param_grid=param_grid_rf, scoring='roc_auc_ovr', cv=5)\n",
        "grid_search_rf.fit(X_train_key_rf, y_train_resampled.ravel())\n",
        "best_model_rf = grid_search_rf.best_estimator_\n",
        "y_pred_proba_rf = best_model_rf.predict_proba(X_test_key_rf)\n",
        "auc_rf = roc_auc_score(y_test, y_pred_proba_rf, multi_class='ovr')\n",
        "\n",
        "# Print the best hyperparameters and AUC scores\n",
        "print(\"Best Hyperparameters - SelectKBest:\", grid_search_kbest.best_params_)\n",
        "print(\"AUC Score - SelectKBest: {:.3f}\".format(auc_kbest))\n",
        "print(\"Best Hyperparameters - Random Forest:\", grid_search_rf.best_params_)\n",
        "print(\"AUC Score - Random Forest: {:.3f}\".format(auc_rf))"
      ]
    },
    {
      "cell_type": "code",
      "execution_count": null,
      "metadata": {
        "colab": {
          "base_uri": "https://localhost:8080/"
        },
        "id": "a2V9WlB6mOEO",
        "outputId": "9d3f11ee-95eb-40a7-9e13-04c7c6c3ce10"
      },
      "outputs": [
        {
          "name": "stdout",
          "output_type": "stream",
          "text": [
            "Cross-validation AUC scores - SelectKBest: [0.54946517 0.54696903 0.54711817]\n",
            "Mean AUC score - SelectKBest: 0.5478507902481184\n",
            "Precision - SelectKBest: 0.46162349160835375\n",
            "Recall - SelectKBest: 0.3888179227670237\n",
            "F1-score - SelectKBest: 0.4077173874754784\n",
            "Cross-validation AUC scores - Random Forest: [0.53848396 0.53008886 0.53664823]\n",
            "Mean AUC score - Random Forest: 0.5350736854582316\n",
            "Precision - Random Forest: 0.45423137704506167\n",
            "Recall - Random Forest: 0.39574530804755825\n",
            "F1-score - Random Forest: 0.40203181416010303\n"
          ]
        }
      ],
      "source": [
        "from sklearn.model_selection import GridSearchCV\n",
        "from sklearn.metrics import roc_auc_score\n",
        "from sklearn.feature_selection import SelectKBest, f_classif\n",
        "from imblearn.over_sampling import SMOTE\n",
        "from sklearn.model_selection import cross_val_score\n",
        "from sklearn.metrics import precision_score, recall_score, f1_score\n",
        "from sklearn.ensemble import VotingClassifier\n",
        "from sklearn.tree import DecisionTreeClassifier\n",
        "from sklearn.svm import SVC\n",
        "from sklearn.linear_model import LogisticRegression\n",
        "\n",
        "# Feature selection using SelectKBest\n",
        "k_kbest = min(10, X_train_key_kbest.shape[1])  # Number of top features to select\n",
        "selector_kbest = SelectKBest(score_func=f_classif, k=k_kbest)\n",
        "X_train_selected_kbest = selector_kbest.fit_transform(X_train_key_kbest, y_train_resampled.ravel())\n",
        "X_test_selected_kbest = selector_kbest.transform(X_test_key_kbest)\n",
        "\n",
        "k_rf = min(10, X_train_key_rf.shape[1])  # Number of top features to select\n",
        "selector_rf = SelectKBest(score_func=f_classif, k=k_rf)\n",
        "X_train_selected_rf = selector_rf.fit_transform(X_train_key_rf, y_train_resampled.ravel())\n",
        "X_test_selected_rf = selector_rf.transform(X_test_key_rf)\n",
        "\n",
        "# Expanded hyperparameter tuning for SelectKBest model\n",
        "param_grid_kbest = {\n",
        "    'C': [0.1, 1, 10],\n",
        "    'penalty': ['l2'],\n",
        "    'solver': ['lbfgs', 'newton-cg', 'sag']\n",
        "}\n",
        "model_kbest = LogisticRegression(random_state=42)\n",
        "grid_search_kbest = GridSearchCV(estimator=model_kbest, param_grid=param_grid_kbest, scoring='roc_auc_ovr', cv=3)\n",
        "grid_search_kbest.fit(X_train_selected_kbest, y_train_resampled.ravel())\n",
        "\n",
        "best_model_kbest = grid_search_kbest.best_estimator_\n",
        "\n",
        "# Expanded hyperparameter tuning for Random Forest model\n",
        "param_grid_rf = {\n",
        "    'C': [0.1, 1, 10],\n",
        "    'penalty': ['l2'],\n",
        "    'solver': ['lbfgs', 'newton-cg', 'sag']\n",
        "}\n",
        "model_rf = LogisticRegression(random_state=42)\n",
        "grid_search_rf = GridSearchCV(estimator=model_rf, param_grid=param_grid_rf, scoring='roc_auc_ovr', cv=3)\n",
        "grid_search_rf.fit(X_train_selected_rf, y_train_resampled.ravel())\n",
        "\n",
        "best_model_rf = grid_search_rf.best_estimator_\n",
        "\n",
        "# Cross-validation and model evaluation for SelectKBest model\n",
        "cv_scores_kbest = cross_val_score(best_model_kbest, X_train_selected_kbest, y_train_resampled.ravel(), cv=3, scoring='roc_auc_ovr')\n",
        "print(\"Cross-validation AUC scores - SelectKBest:\", cv_scores_kbest)\n",
        "print(\"Mean AUC score - SelectKBest:\", cv_scores_kbest.mean())\n",
        "\n",
        "y_pred_kbest = best_model_kbest.predict(X_test_selected_kbest)\n",
        "precision_kbest = precision_score(y_test, y_pred_kbest, average='weighted')\n",
        "recall_kbest = recall_score(y_test, y_pred_kbest, average='weighted')\n",
        "f1_kbest = f1_score(y_test, y_pred_kbest, average='weighted')\n",
        "print(\"Precision - SelectKBest:\", precision_kbest)\n",
        "print(\"Recall - SelectKBest:\", recall_kbest)\n",
        "print(\"F1-score - SelectKBest:\", f1_kbest)\n",
        "\n",
        "# Cross-validation and model evaluation for Random Forest model\n",
        "cv_scores_rf = cross_val_score(best_model_rf, X_train_selected_rf, y_train_resampled.ravel(), cv=3, scoring='roc_auc_ovr')\n",
        "print(\"Cross-validation AUC scores - Random Forest:\", cv_scores_rf)\n",
        "print(\"Mean AUC score - Random Forest:\", cv_scores_rf.mean())\n",
        "\n",
        "y_pred_rf = best_model_rf.predict(X_test_selected_rf)\n",
        "precision_rf = precision_score(y_test, y_pred_rf, average='weighted')\n",
        "recall_rf = recall_score(y_test, y_pred_rf, average='weighted')\n",
        "f1_rf = f1_score(y_test, y_pred_rf, average='weighted')\n",
        "print(\"Precision - Random Forest:\", precision_rf)\n",
        "print(\"Recall - Random Forest:\", recall_rf)\n",
        "print(\"F1-score - Random Forest:\", f1_rf)"
      ]
    }
  ],
  "metadata": {
    "colab": {
      "provenance": []
    },
    "kernelspec": {
      "display_name": "Python 3",
      "name": "python3"
    },
    "language_info": {
      "name": "python"
    }
  },
  "nbformat": 4,
  "nbformat_minor": 0
}