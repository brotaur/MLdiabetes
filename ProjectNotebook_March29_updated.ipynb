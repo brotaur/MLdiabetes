{
  "cells": [
    {
      "cell_type": "code",
      "execution_count": null,
      "metadata": {
        "id": "LbxgVGFSrFaO"
      },
      "outputs": [],
      "source": [
        "import pandas as pd"
      ]
    },
    {
      "cell_type": "code",
      "execution_count": null,
      "metadata": {
        "id": "a-xzLu89D77h"
      },
      "outputs": [],
      "source": [
        "#!pip3 install -U ucimlrepo"
      ]
    },
    {
      "cell_type": "code",
      "execution_count": null,
      "metadata": {
        "id": "yaFY-OqZXSsm"
      },
      "outputs": [],
      "source": [
        "from ucimlrepo import fetch_ucirepo"
      ]
    },
    {
      "cell_type": "code",
      "execution_count": null,
      "metadata": {
        "id": "xZWPd_iCXnOP",
        "colab": {
          "base_uri": "https://localhost:8080/"
        },
        "outputId": "3658ed58-b10d-4627-d5da-39c684f57073"
      },
      "outputs": [
        {
          "output_type": "stream",
          "name": "stderr",
          "text": [
            "/usr/local/lib/python3.10/dist-packages/ucimlrepo/fetch.py:97: DtypeWarning: Columns (10) have mixed types. Specify dtype option on import or set low_memory=False.\n",
            "  df = pd.read_csv(data_url)\n"
          ]
        },
        {
          "output_type": "stream",
          "name": "stdout",
          "text": [
            "A metadata Description\n",
            "{'uci_id': 296, 'name': 'Diabetes 130-US Hospitals for Years 1999-2008', 'repository_url': 'https://archive.ics.uci.edu/dataset/296/diabetes+130-us+hospitals+for+years+1999-2008', 'data_url': 'https://archive.ics.uci.edu/static/public/296/data.csv', 'abstract': 'The dataset represents ten years (1999-2008) of clinical care at 130 US hospitals and integrated delivery networks. Each row concerns hospital records of patients diagnosed with diabetes, who underwent laboratory, medications, and stayed up to 14 days. The goal is to determine the early readmission of the patient within 30 days of discharge.\\nThe problem is important for the following reasons. Despite high-quality evidence showing improved clinical outcomes for diabetic patients who receive various preventive and therapeutic interventions, many patients do not receive them. This can be partially attributed to arbitrary diabetes management in hospital environments, which fail to attend to glycemic control. Failure to provide proper diabetes care not only increases the managing costs for the hospitals (as the patients are readmitted) but also impacts the morbidity and mortality of the patients, who may face complications associated with diabetes.\\n', 'area': 'Health and Medicine', 'tasks': ['Classification', 'Clustering'], 'characteristics': ['Multivariate'], 'num_instances': 101766, 'num_features': 47, 'feature_types': ['Categorical', 'Integer'], 'demographics': ['Race', 'Gender', 'Age'], 'target_col': ['readmitted'], 'index_col': ['encounter_id', 'patient_nbr'], 'has_missing_values': 'yes', 'missing_values_symbol': 'NaN', 'year_of_dataset_creation': 2014, 'last_updated': 'Mon Feb 26 2024', 'dataset_doi': '10.24432/C5230J', 'creators': ['John Clore', 'Krzysztof Cios', 'Jon DeShazo', 'Beata Strack'], 'intro_paper': {'title': 'Impact of HbA1c Measurement on Hospital Readmission Rates: Analysis of 70,000 Clinical Database Patient Record', 'authors': 'Beata Strack, Jonathan DeShazo, Chris Gennings, Juan Olmo, Sebastian Ventura, Krzysztof Cios, John Clore', 'published_in': 'BioMed Research International, vol. 2014', 'year': 2014, 'url': 'https://www.hindawi.com/journals/bmri/2014/781670/', 'doi': None}, 'additional_info': {'summary': 'The dataset represents ten years (1999-2008) of clinical care at 130 US hospitals and integrated delivery networks. It includes over 50 features representing patient and hospital outcomes. Information was extracted from the database for encounters that satisfied the following criteria.\\n(1)\\tIt is an inpatient encounter (a hospital admission).\\n(2)\\tIt is a diabetic encounter, that is, one during which any kind of diabetes was entered into the system as a diagnosis.\\n(3)\\tThe length of stay was at least 1 day and at most 14 days.\\n(4)\\tLaboratory tests were performed during the encounter.\\n(5)\\tMedications were administered during the encounter.\\n\\nThe data contains such attributes as patient number, race, gender, age, admission type, time in hospital, medical specialty of admitting physician, number of lab tests performed, HbA1c test result, diagnosis, number of medications, diabetic medications, number of outpatient, inpatient, and emergency visits in the year before the hospitalization, etc.', 'purpose': None, 'funded_by': None, 'instances_represent': 'The instances represent hospitalized patient records diagnosed with diabetes.', 'recommended_data_splits': 'No recommendation. The standard train-test split could be used. Can use three-way holdout split (i.e., train-validation-test) when doing model selection.', 'sensitive_data': 'Yes. The dataset contains information about the age, gender, and race of the patients.', 'preprocessing_description': None, 'variable_info': 'Detailed description of all the atrributes is provided in Table 1 Beata Strack, Jonathan P. DeShazo, Chris Gennings,  Juan L. Olmo, Sebastian Ventura,  Krzysztof J. Cios, and John N. Clore, “Impact of HbA1c Measurement on Hospital Readmission Rates: Analysis of 70,000 Clinical Database Patient Records,” BioMed Research International, vol. 2014, Article ID 781670, 11 pages, 2014.\\n\\nhttp://www.hindawi.com/journals/bmri/2014/781670/', 'citation': 'Please cite:\\nBeata Strack, Jonathan P. DeShazo, Chris Gennings, Juan L. Olmo, Sebastian Ventura, Krzysztof J. Cios, and John N. Clore, “Impact of HbA1c Measurement on Hospital Readmission Rates: Analysis of 70,000 Clinical Database Patient Records,” BioMed Research International, vol. 2014, Article ID 781670, 11 pages, 2014.'}}\n",
            "None\n",
            "                        name     role         type demographic  \\\n",
            "0               encounter_id       ID                     None   \n",
            "1                patient_nbr       ID                     None   \n",
            "2                       race  Feature  Categorical        Race   \n",
            "3                     gender  Feature  Categorical      Gender   \n",
            "4                        age  Feature  Categorical         Age   \n",
            "5                     weight  Feature  Categorical        None   \n",
            "6          admission_type_id  Feature  Categorical        None   \n",
            "7   discharge_disposition_id  Feature  Categorical        None   \n",
            "8        admission_source_id  Feature  Categorical        None   \n",
            "9           time_in_hospital  Feature      Integer        None   \n",
            "10                payer_code  Feature  Categorical        None   \n",
            "11         medical_specialty  Feature  Categorical        None   \n",
            "12        num_lab_procedures  Feature      Integer        None   \n",
            "13            num_procedures  Feature      Integer        None   \n",
            "14           num_medications  Feature      Integer        None   \n",
            "15         number_outpatient  Feature      Integer        None   \n",
            "16          number_emergency  Feature      Integer        None   \n",
            "17          number_inpatient  Feature      Integer        None   \n",
            "18                    diag_1  Feature  Categorical        None   \n",
            "19                    diag_2  Feature  Categorical        None   \n",
            "20                    diag_3  Feature  Categorical        None   \n",
            "21          number_diagnoses  Feature      Integer        None   \n",
            "22             max_glu_serum  Feature  Categorical        None   \n",
            "23                 A1Cresult  Feature  Categorical        None   \n",
            "24                 metformin  Feature  Categorical        None   \n",
            "25               repaglinide  Feature  Categorical        None   \n",
            "26               nateglinide  Feature  Categorical        None   \n",
            "27            chlorpropamide  Feature  Categorical        None   \n",
            "28               glimepiride  Feature  Categorical        None   \n",
            "29             acetohexamide  Feature  Categorical        None   \n",
            "30                 glipizide  Feature  Categorical        None   \n",
            "31                 glyburide  Feature  Categorical        None   \n",
            "32               tolbutamide  Feature  Categorical        None   \n",
            "33              pioglitazone  Feature  Categorical        None   \n",
            "34             rosiglitazone  Feature  Categorical        None   \n",
            "35                  acarbose  Feature  Categorical        None   \n",
            "36                  miglitol  Feature  Categorical        None   \n",
            "37              troglitazone  Feature  Categorical        None   \n",
            "38                tolazamide  Feature  Categorical        None   \n",
            "39                   examide  Feature  Categorical        None   \n",
            "40               citoglipton  Feature  Categorical        None   \n",
            "41                   insulin  Feature  Categorical        None   \n",
            "42       glyburide-metformin  Feature  Categorical        None   \n",
            "43       glipizide-metformin  Feature  Categorical        None   \n",
            "44  glimepiride-pioglitazone  Feature  Categorical        None   \n",
            "45   metformin-rosiglitazone  Feature  Categorical        None   \n",
            "46    metformin-pioglitazone  Feature  Categorical        None   \n",
            "47                    change  Feature  Categorical        None   \n",
            "48               diabetesMed  Feature  Categorical        None   \n",
            "49                readmitted   Target  Categorical        None   \n",
            "\n",
            "                                          description units missing_values  \n",
            "0                   Unique identifier of an encounter  None             no  \n",
            "1                      Unique identifier of a patient  None             no  \n",
            "2   Values: Caucasian, Asian, African American, Hi...  None            yes  \n",
            "3           Values: male, female, and unknown/invalid  None             no  \n",
            "4   Grouped in 10-year intervals: [0, 10), [10, 20...  None             no  \n",
            "5                                   Weight in pounds.  None            yes  \n",
            "6   Integer identifier corresponding to 9 distinct...  None             no  \n",
            "7   Integer identifier corresponding to 29 distinc...  None             no  \n",
            "8   Integer identifier corresponding to 21 distinc...  None             no  \n",
            "9   Integer number of days between admission and d...  None             no  \n",
            "10  Integer identifier corresponding to 23 distinc...  None            yes  \n",
            "11  Integer identifier of a specialty of the admit...  None            yes  \n",
            "12  Number of lab tests performed during the encou...  None             no  \n",
            "13  Number of procedures (other than lab tests) pe...  None             no  \n",
            "14  Number of distinct generic names administered ...  None             no  \n",
            "15  Number of outpatient visits of the patient in ...  None             no  \n",
            "16  Number of emergency visits of the patient in t...  None             no  \n",
            "17  Number of inpatient visits of the patient in t...  None             no  \n",
            "18  The primary diagnosis (coded as first three di...  None            yes  \n",
            "19  Secondary diagnosis (coded as first three digi...  None            yes  \n",
            "20  Additional secondary diagnosis (coded as first...  None            yes  \n",
            "21          Number of diagnoses entered to the system  None             no  \n",
            "22  Indicates the range of the result or if the te...  None             no  \n",
            "23  Indicates the range of the result or if the te...  None             no  \n",
            "24  The feature indicates whether the drug was pre...  None             no  \n",
            "25  The feature indicates whether the drug was pre...  None             no  \n",
            "26  The feature indicates whether the drug was pre...  None             no  \n",
            "27  The feature indicates whether the drug was pre...  None             no  \n",
            "28  The feature indicates whether the drug was pre...  None             no  \n",
            "29  The feature indicates whether the drug was pre...  None             no  \n",
            "30  The feature indicates whether the drug was pre...  None             no  \n",
            "31  The feature indicates whether the drug was pre...  None             no  \n",
            "32  The feature indicates whether the drug was pre...  None             no  \n",
            "33  The feature indicates whether the drug was pre...  None             no  \n",
            "34  The feature indicates whether the drug was pre...  None             no  \n",
            "35  The feature indicates whether the drug was pre...  None             no  \n",
            "36  The feature indicates whether the drug was pre...  None             no  \n",
            "37  The feature indicates whether the drug was pre...  None             no  \n",
            "38  The feature indicates whether the drug was pre...  None             no  \n",
            "39  The feature indicates whether the drug was pre...  None             no  \n",
            "40  The feature indicates whether the drug was pre...  None             no  \n",
            "41  The feature indicates whether the drug was pre...  None             no  \n",
            "42  The feature indicates whether the drug was pre...  None             no  \n",
            "43  The feature indicates whether the drug was pre...  None             no  \n",
            "44  The feature indicates whether the drug was pre...  None             no  \n",
            "45  The feature indicates whether the drug was pre...  None             no  \n",
            "46  The feature indicates whether the drug was pre...  None             no  \n",
            "47  Indicates if there was a change in diabetic me...  None             no  \n",
            "48  Indicates if there was any diabetic medication...  None             no  \n",
            "49  Days to inpatient readmission. Values: <30 if ...  None             no  \n"
          ]
        }
      ],
      "source": [
        "# fetch dataset\n",
        "dia_130 = fetch_ucirepo(id=296)\n",
        "# metadata\n",
        "print(\"A metadata Description\")\n",
        "print(dia_130.metadata)\n",
        "\n",
        "print(dia_130.shape)\n",
        "\n",
        "#variable information\n",
        "print(dia_130.variables)"
      ]
    },
    {
      "cell_type": "code",
      "execution_count": null,
      "metadata": {
        "id": "-9r1q_xmePrm",
        "colab": {
          "base_uri": "https://localhost:8080/"
        },
        "outputId": "8f79c622-734f-488d-c900-00aff24ee079"
      },
      "outputs": [
        {
          "output_type": "stream",
          "name": "stdout",
          "text": [
            "DataFrame\n",
            "(98053, 44)\n",
            "Features and number of NaN values per feature/column\n",
            "race                        0\n",
            "gender                      0\n",
            "age                         0\n",
            "admission_type_id           0\n",
            "discharge_disposition_id    0\n",
            "admission_source_id         0\n",
            "time_in_hospital            0\n",
            "num_lab_procedures          0\n",
            "num_procedures              0\n",
            "num_medications             0\n",
            "number_outpatient           0\n",
            "number_emergency            0\n",
            "number_inpatient            0\n",
            "diag_1                      0\n",
            "diag_2                      0\n",
            "diag_3                      0\n",
            "number_diagnoses            0\n",
            "max_glu_serum               0\n",
            "A1Cresult                   0\n",
            "metformin                   0\n",
            "repaglinide                 0\n",
            "nateglinide                 0\n",
            "chlorpropamide              0\n",
            "glimepiride                 0\n",
            "acetohexamide               0\n",
            "glipizide                   0\n",
            "glyburide                   0\n",
            "tolbutamide                 0\n",
            "pioglitazone                0\n",
            "rosiglitazone               0\n",
            "acarbose                    0\n",
            "miglitol                    0\n",
            "troglitazone                0\n",
            "tolazamide                  0\n",
            "examide                     0\n",
            "citoglipton                 0\n",
            "insulin                     0\n",
            "glyburide-metformin         0\n",
            "glipizide-metformin         0\n",
            "glimepiride-pioglitazone    0\n",
            "metformin-rosiglitazone     0\n",
            "metformin-pioglitazone      0\n",
            "change                      0\n",
            "diabetesMed                 0\n",
            "dtype: int64\n",
            "       readmitted\n",
            "1             >30\n",
            "2              NO\n",
            "3              NO\n",
            "4              NO\n",
            "5             >30\n",
            "...           ...\n",
            "101761        >30\n",
            "101762         NO\n",
            "101763         NO\n",
            "101764         NO\n",
            "101765         NO\n",
            "\n",
            "[98053 rows x 1 columns]\n",
            "(98053, 1)\n"
          ]
        }
      ],
      "source": [
        "# data (as pandas dataframes)\n",
        "X_130 = dia_130.data.features\n",
        "y_130 = dia_130.data.targets\n",
        "\n",
        "print(\"DataFrame\")\n",
        "pandas_df = pd.DataFrame(X_130, columns=dia_130.feature_names)\n",
        "pandas_df.drop(['weight','payer_code','medical_specialty'], axis = 1, inplace = True)\n",
        "pandas_df = pandas_df.dropna(subset=['race','diag_1', 'diag_2', 'diag_3'])\n",
        "y_130_aligned = y_130.loc[pandas_df.index]\n",
        "print(pandas_df.shape)\n",
        "print(\"Features and number of NaN values per feature/column\")\n",
        "v1_130 = pandas_df.isnull().sum()\n",
        "print(v1_130)\n",
        "print(y_130_aligned)\n",
        "print(y_130_aligned.shape)\n"
      ]
    },
    {
      "cell_type": "code",
      "execution_count": null,
      "metadata": {
        "id": "9kVageXA9wFA"
      },
      "outputs": [],
      "source": [
        "print(pandas_df.head())\n",
        "print(pandas_df.dtypes)"
      ]
    },
    {
      "cell_type": "code",
      "execution_count": null,
      "metadata": {
        "colab": {
          "base_uri": "https://localhost:8080/"
        },
        "id": "xbH8DouK5evn",
        "outputId": "7beed9aa-aad5-434c-adfd-69bed182a0f9"
      },
      "outputs": [
        {
          "output_type": "stream",
          "name": "stdout",
          "text": [
            "(98053, 1)\n",
            "readmitted    0\n",
            "dtype: int64\n"
          ]
        }
      ],
      "source": [
        "pandas_df_tar = pd.DataFrame(y_130_aligned, columns=dia_130.target_names)\n",
        "print(pandas_df_tar.shape)\n",
        "print(pandas_df_tar.isnull().sum())"
      ]
    },
    {
      "cell_type": "markdown",
      "metadata": {
        "id": "f2JViShXSyYn"
      },
      "source": [
        "map diagnosis codes to categories"
      ]
    },
    {
      "cell_type": "code",
      "execution_count": null,
      "metadata": {
        "id": "g2g555MRSxgU",
        "colab": {
          "base_uri": "https://localhost:8080/"
        },
        "outputId": "852ee12b-46e9-48fd-a833-2a87e88a2b27"
      },
      "outputs": [
        {
          "output_type": "stream",
          "name": "stdout",
          "text": [
            "                   race  gender      age  admission_type_id  \\\n",
            "1             Caucasian  Female  [10-20)                  1   \n",
            "2       AfricanAmerican  Female  [20-30)                  1   \n",
            "3             Caucasian    Male  [30-40)                  1   \n",
            "4             Caucasian    Male  [40-50)                  1   \n",
            "5             Caucasian    Male  [50-60)                  2   \n",
            "...                 ...     ...      ...                ...   \n",
            "101761  AfricanAmerican    Male  [70-80)                  1   \n",
            "101762  AfricanAmerican  Female  [80-90)                  1   \n",
            "101763        Caucasian    Male  [70-80)                  1   \n",
            "101764        Caucasian  Female  [80-90)                  2   \n",
            "101765        Caucasian    Male  [70-80)                  1   \n",
            "\n",
            "        discharge_disposition_id  admission_source_id  time_in_hospital  \\\n",
            "1                              1                    7                 3   \n",
            "2                              1                    7                 2   \n",
            "3                              1                    7                 2   \n",
            "4                              1                    7                 1   \n",
            "5                              1                    2                 3   \n",
            "...                          ...                  ...               ...   \n",
            "101761                         3                    7                 3   \n",
            "101762                         4                    5                 5   \n",
            "101763                         1                    7                 1   \n",
            "101764                         3                    7                10   \n",
            "101765                         1                    7                 6   \n",
            "\n",
            "        num_lab_procedures  num_procedures  num_medications  ...  examide  \\\n",
            "1                       59               0               18  ...       No   \n",
            "2                       11               5               13  ...       No   \n",
            "3                       44               1               16  ...       No   \n",
            "4                       51               0                8  ...       No   \n",
            "5                       31               6               16  ...       No   \n",
            "...                    ...             ...              ...  ...      ...   \n",
            "101761                  51               0               16  ...       No   \n",
            "101762                  33               3               18  ...       No   \n",
            "101763                  53               0                9  ...       No   \n",
            "101764                  45               2               21  ...       No   \n",
            "101765                  13               3                3  ...       No   \n",
            "\n",
            "        citoglipton  insulin glyburide-metformin glipizide-metformin  \\\n",
            "1                No       Up                  No                  No   \n",
            "2                No       No                  No                  No   \n",
            "3                No       Up                  No                  No   \n",
            "4                No   Steady                  No                  No   \n",
            "5                No   Steady                  No                  No   \n",
            "...             ...      ...                 ...                 ...   \n",
            "101761           No     Down                  No                  No   \n",
            "101762           No   Steady                  No                  No   \n",
            "101763           No     Down                  No                  No   \n",
            "101764           No       Up                  No                  No   \n",
            "101765           No       No                  No                  No   \n",
            "\n",
            "       glimepiride-pioglitazone  metformin-rosiglitazone  \\\n",
            "1                            No                       No   \n",
            "2                            No                       No   \n",
            "3                            No                       No   \n",
            "4                            No                       No   \n",
            "5                            No                       No   \n",
            "...                         ...                      ...   \n",
            "101761                       No                       No   \n",
            "101762                       No                       No   \n",
            "101763                       No                       No   \n",
            "101764                       No                       No   \n",
            "101765                       No                       No   \n",
            "\n",
            "       metformin-pioglitazone change diabetesMed  \n",
            "1                          No     Ch         Yes  \n",
            "2                          No     No         Yes  \n",
            "3                          No     Ch         Yes  \n",
            "4                          No     Ch         Yes  \n",
            "5                          No     No         Yes  \n",
            "...                       ...    ...         ...  \n",
            "101761                     No     Ch         Yes  \n",
            "101762                     No     No         Yes  \n",
            "101763                     No     Ch         Yes  \n",
            "101764                     No     Ch         Yes  \n",
            "101765                     No     No          No  \n",
            "\n",
            "[98053 rows x 44 columns]\n"
          ]
        }
      ],
      "source": [
        "# Step 1: Read the CSV and create the mapping dictionary\n",
        "icd_9_codes_url = 'https://raw.githubusercontent.com/brotaur/MLdiabetes/main/Converstion%20table2.csv'\n",
        "icd_9_codes_df = pd.read_csv(icd_9_codes_url, encoding='ISO-8859-1')\n",
        "icd_9_code_mapping = icd_9_codes_df.set_index('Diag Code')['Diag Category'].to_dict()\n",
        "\n",
        "# Step 2: Apply the mapping to your DataFrame\n",
        "icd_9_columns = ['diag_1', 'diag_2', 'diag_3']\n",
        "\n",
        "for column in icd_9_columns:\n",
        "    pandas_df[column] = pandas_df[column].map(icd_9_code_mapping)\n",
        "\n",
        "# At this point, diag_1, diag_2, and diag_3 in your DataFrame have been replaced\n",
        "# with their corresponding diagnostic categories from the CSV\n",
        "print(pandas_df)\n"
      ]
    },
    {
      "cell_type": "code",
      "execution_count": null,
      "metadata": {
        "id": "IDXFLhxcU8zU",
        "colab": {
          "base_uri": "https://localhost:8080/"
        },
        "outputId": "b90718ef-a1ea-4fb3-eb59-631a348374a5"
      },
      "outputs": [
        {
          "output_type": "stream",
          "name": "stdout",
          "text": [
            "Unique categories in 'diag_1' after mapping: ['Other metabolic and immunity disorders'\n",
            " 'Complications Mainly Related To Pregnancy'\n",
            " 'Intestinal infectious diseases'\n",
            " 'Malignant neoplasm of other and unspecified sites'\n",
            " 'Ischemic Heart Disease' 'Other Forms Of Heart Disease'\n",
            " 'Chronic Rheumatic Heart Disease' 'Cerebrovascular Disease'\n",
            " 'Diabetes mellitus'\n",
            " 'Malignant neoplasm of digestive organs and peritoneum']\n",
            "Sample rows from the DataFrame:\n",
            "                                                  diag_1  \\\n",
            "72258                    Diseases Of Male Genital Organs   \n",
            "86098                  Diseases Of Pulmonary Circulation   \n",
            "67755  Neurotic disorders, personality disorders, and...   \n",
            "29731                             Ischemic Heart Disease   \n",
            "93746                             Fracture Of Upper Limb   \n",
            "\n",
            "                                     diag_2  \\\n",
            "72258       Disorders Of The Eye And Adnexa   \n",
            "86098          Other Forms Of Heart Disease   \n",
            "67755  Other Diseases Of Respiratory System   \n",
            "29731                Ischemic Heart Disease   \n",
            "93746                      Accidental Falls   \n",
            "\n",
            "                                   diag_3  \n",
            "72258                Hypertensive Disease  \n",
            "86098                   Diabetes mellitus  \n",
            "67755                            Symptoms  \n",
            "29731  Other Diseases Of Digestive System  \n",
            "93746                   Diabetes mellitus  \n",
            "Columns with unmapped codes: diag_1    False\n",
            "diag_2    False\n",
            "diag_3    False\n",
            "dtype: bool\n"
          ]
        }
      ],
      "source": [
        "# Step 2: Inspect unique values after mapping\n",
        "print(\"Unique categories in 'diag_1' after mapping:\", pandas_df['diag_1'].unique()[:10])\n",
        "\n",
        "# Step 3: Sample rows check\n",
        "print(\"Sample rows from the DataFrame:\")\n",
        "print(pandas_df[['diag_1', 'diag_2', 'diag_3']].sample(5))\n",
        "\n",
        "# Step 4: Check for unmapped codes (assuming all codes should be mapped)\n",
        "unmapped_check = pandas_df[['diag_1', 'diag_2', 'diag_3']].isnull().any()\n",
        "print(\"Columns with unmapped codes:\", unmapped_check)\n"
      ]
    },
    {
      "cell_type": "code",
      "execution_count": null,
      "metadata": {
        "id": "bApVbqJ5VcWR",
        "colab": {
          "base_uri": "https://localhost:8080/"
        },
        "outputId": "87b89667-6391-40e8-c8b8-6f5cc9d4051f"
      },
      "outputs": [
        {
          "output_type": "stream",
          "name": "stdout",
          "text": [
            "                                              diag_1  diag_1_encoded  \\\n",
            "1             Other metabolic and immunity disorders              98   \n",
            "2          Complications Mainly Related To Pregnancy              15   \n",
            "3                     Intestinal infectious diseases              57   \n",
            "4  Malignant neoplasm of other and unspecified sites              66   \n",
            "5                             Ischemic Heart Disease              59   \n",
            "\n",
            "                                              diag_2  diag_2_encoded  \\\n",
            "1                                  Diabetes mellitus              28   \n",
            "2                                  Diabetes mellitus              28   \n",
            "3                                  Diabetes mellitus              28   \n",
            "4  Malignant neoplasm of digestive organs and per...              74   \n",
            "5                             Ischemic Heart Disease              69   \n",
            "\n",
            "                                              diag_3  diag_3_encoded  \n",
            "1                        Disorders of adrenal glands              42  \n",
            "2  Persons Encountering Health Services In Circum...             119  \n",
            "3                               Hypertensive Disease              59  \n",
            "4                                  Diabetes mellitus              29  \n",
            "5                                  Diabetes mellitus              29  \n",
            "                   race  gender      age  admission_type_id  \\\n",
            "1             Caucasian  Female  [10-20)                  1   \n",
            "2       AfricanAmerican  Female  [20-30)                  1   \n",
            "3             Caucasian    Male  [30-40)                  1   \n",
            "4             Caucasian    Male  [40-50)                  1   \n",
            "5             Caucasian    Male  [50-60)                  2   \n",
            "...                 ...     ...      ...                ...   \n",
            "101761  AfricanAmerican    Male  [70-80)                  1   \n",
            "101762  AfricanAmerican  Female  [80-90)                  1   \n",
            "101763        Caucasian    Male  [70-80)                  1   \n",
            "101764        Caucasian  Female  [80-90)                  2   \n",
            "101765        Caucasian    Male  [70-80)                  1   \n",
            "\n",
            "        discharge_disposition_id  admission_source_id  time_in_hospital  \\\n",
            "1                              1                    7                 3   \n",
            "2                              1                    7                 2   \n",
            "3                              1                    7                 2   \n",
            "4                              1                    7                 1   \n",
            "5                              1                    2                 3   \n",
            "...                          ...                  ...               ...   \n",
            "101761                         3                    7                 3   \n",
            "101762                         4                    5                 5   \n",
            "101763                         1                    7                 1   \n",
            "101764                         3                    7                10   \n",
            "101765                         1                    7                 6   \n",
            "\n",
            "        num_lab_procedures  num_procedures  num_medications  ...  \\\n",
            "1                       59               0               18  ...   \n",
            "2                       11               5               13  ...   \n",
            "3                       44               1               16  ...   \n",
            "4                       51               0                8  ...   \n",
            "5                       31               6               16  ...   \n",
            "...                    ...             ...              ...  ...   \n",
            "101761                  51               0               16  ...   \n",
            "101762                  33               3               18  ...   \n",
            "101763                  53               0                9  ...   \n",
            "101764                  45               2               21  ...   \n",
            "101765                  13               3                3  ...   \n",
            "\n",
            "        glyburide-metformin  glipizide-metformin  glimepiride-pioglitazone  \\\n",
            "1                        No                   No                        No   \n",
            "2                        No                   No                        No   \n",
            "3                        No                   No                        No   \n",
            "4                        No                   No                        No   \n",
            "5                        No                   No                        No   \n",
            "...                     ...                  ...                       ...   \n",
            "101761                   No                   No                        No   \n",
            "101762                   No                   No                        No   \n",
            "101763                   No                   No                        No   \n",
            "101764                   No                   No                        No   \n",
            "101765                   No                   No                        No   \n",
            "\n",
            "       metformin-rosiglitazone metformin-pioglitazone change  diabetesMed  \\\n",
            "1                           No                     No     Ch          Yes   \n",
            "2                           No                     No     No          Yes   \n",
            "3                           No                     No     Ch          Yes   \n",
            "4                           No                     No     Ch          Yes   \n",
            "5                           No                     No     No          Yes   \n",
            "...                        ...                    ...    ...          ...   \n",
            "101761                      No                     No     Ch          Yes   \n",
            "101762                      No                     No     No          Yes   \n",
            "101763                      No                     No     Ch          Yes   \n",
            "101764                      No                     No     Ch          Yes   \n",
            "101765                      No                     No     No           No   \n",
            "\n",
            "       diag_1_encoded diag_2_encoded diag_3_encoded  \n",
            "1                  98             28             42  \n",
            "2                  15             28            119  \n",
            "3                  57             28             59  \n",
            "4                  66             74             29  \n",
            "5                  59             69             29  \n",
            "...               ...            ...            ...  \n",
            "101761             22            130             36  \n",
            "101762             85            116            137  \n",
            "101763             83            105            130  \n",
            "101764             17              8             24  \n",
            "101765             24             30            137  \n",
            "\n",
            "[98053 rows x 47 columns]\n"
          ]
        }
      ],
      "source": [
        "from sklearn.preprocessing import LabelEncoder\n",
        "\n",
        "# Initialize one LabelEncoder per column to keep track of the mappings\n",
        "label_encoder_diag_1 = LabelEncoder()\n",
        "label_encoder_diag_2 = LabelEncoder()\n",
        "label_encoder_diag_3 = LabelEncoder()\n",
        "\n",
        "# Apply Label Encoding for 'diag_1', 'diag_2', 'diag_3'\n",
        "pandas_df['diag_1_encoded'] = label_encoder_diag_1.fit_transform(pandas_df['diag_1'])\n",
        "pandas_df['diag_2_encoded'] = label_encoder_diag_2.fit_transform(pandas_df['diag_2'])\n",
        "pandas_df['diag_3_encoded'] = label_encoder_diag_3.fit_transform(pandas_df['diag_3'])\n",
        "\n",
        "# Display the first few rows to verify the encoded columns\n",
        "print(pandas_df[['diag_1', 'diag_1_encoded', 'diag_2', 'diag_2_encoded', 'diag_3', 'diag_3_encoded']].head())\n",
        "print(pandas_df)\n"
      ]
    },
    {
      "cell_type": "code",
      "execution_count": null,
      "metadata": {
        "id": "4AtiShrIL9WX",
        "colab": {
          "base_uri": "https://localhost:8080/"
        },
        "outputId": "1dfb1d55-7dd5-4f4d-b0c1-d81ab0b59666"
      },
      "outputs": [
        {
          "output_type": "stream",
          "name": "stdout",
          "text": [
            "   race  gender  change  diabetesMed\n",
            "1     2       0       0            1\n",
            "2     0       0       1            1\n",
            "3     2       1       0            1\n",
            "4     2       1       0            1\n",
            "5     2       1       1            1\n"
          ]
        }
      ],
      "source": [
        "label_encoder_race = LabelEncoder()\n",
        "label_encoder_gender = LabelEncoder()\n",
        "label_encoder_change = LabelEncoder()\n",
        "label_encoder_diabetesMed = LabelEncoder()\n",
        "\n",
        "# Apply Label Encoding for race, gender, change, and diabetesMed\n",
        "pandas_df['race'] = label_encoder_diag_1.fit_transform(pandas_df['race'])\n",
        "pandas_df['gender'] = label_encoder_diag_2.fit_transform(pandas_df['gender'])\n",
        "pandas_df['change'] = label_encoder_diag_3.fit_transform(pandas_df['change'])\n",
        "pandas_df['diabetesMed'] = label_encoder_diag_1.fit_transform(pandas_df['diabetesMed'])\n",
        "\n",
        "\n",
        "print(pandas_df[['race', 'gender', 'change','diabetesMed']].head())"
      ]
    },
    {
      "cell_type": "code",
      "execution_count": null,
      "metadata": {
        "id": "myu5zJy4ZPPq"
      },
      "outputs": [],
      "source": [
        "pandas_df.dtypes"
      ]
    },
    {
      "cell_type": "code",
      "execution_count": null,
      "metadata": {
        "id": "lHFApAkGIDsN"
      },
      "outputs": [],
      "source": [
        "from sklearn.preprocessing import OrdinalEncoder\n",
        "\n",
        "# Mapping\n",
        "age_mapping = {'[0-10)':0, '[10-20)':1, '[20-30)':2, '[30-40)':3, '[40-50)':4, '[50-60)':5, '[60-70)':6, '[70-80)':7,'[80-90)':8, '[90-100)':9}\n",
        "max_glu_serum_mapping = {'None': 0, 'Norm': 1, '>200': 2, '>300': 3}\n",
        "A1Cresult_mapping = {'None': 0, 'Norm': 1, '>7': 2, '>8': 3}\n",
        "metformin_mapping = {'No':0, 'Steady': 1, 'Up':2, 'Down':3}\n",
        "repaglinide_mapping = {'No':0, 'Steady': 1, 'Up':2, 'Down':3}\n",
        "nateglinide_mapping = {'No':0, 'Steady': 1, 'Up':2, 'Down':3}\n",
        "chlorpropamide_mapping = {'No':0, 'Steady': 1, 'Up':2, 'Down':3}\n",
        "glimepiride_mapping = {'No':0, 'Steady': 1, 'Up':2, 'Down':3}\n",
        "acetohexamide_mapping = {'No':0, 'Steady': 1}\n",
        "glipizide_mapping = {'No':0, 'Steady': 1, 'Up':2, 'Down':3}\n",
        "glyburide_mapping = {'No':0, 'Steady': 1, 'Up':2, 'Down':3}\n",
        "tolbutamide_mapping = {'No':0, 'Steady': 1}\n",
        "pioglitazone_mapping = {'No':0, 'Steady': 1, 'Up':2, 'Down':3}\n",
        "rosiglitazone_mapping = {'No':0, 'Steady': 1, 'Up':2, 'Down':3}\n",
        "acarbose_mapping = {'No':0, 'Steady': 1, 'Up':2, 'Down':3}\n",
        "miglitol_mapping = {'No':0, 'Steady': 1, 'Up':2, 'Down':3}\n",
        "troglitazone_mapping = {'No':0, 'Steady': 1}\n",
        "tolazamide_mapping = {'No':0, 'Steady': 1, 'Up':2}\n",
        "examide_mapping = {'No':0}\n",
        "citoglipton_mapping = {\"No\": 0}\n",
        "insulin_mapping = {\"No\": 0, \"Steady\": 1, \"Up\": 2, \"Down\": 3}\n",
        "glyburide_metformin_mapping = {\"No\": 0, \"Steady\": 1, \"Up\": 2, \"Down\": 3}\n",
        "glipizide_metformin_mapping = {\"No\": 0, \"Steady\": 1}\n",
        "glimepiride_pioglitazone_mapping = {\"No\": 0, \"Steady\": 1}\n",
        "metformin_rosiglitazone_mapping = {'No':0}\n",
        "metformin_pioglitazone_mapping = {'No':0, 'Steady': 1}\n",
        "\n",
        "# Applying mapping\n",
        "pandas_df['age'] = pandas_df['age'].map(age_mapping)\n",
        "pandas_df['max_glu_serum'] = pandas_df['max_glu_serum'].map(max_glu_serum_mapping)\n",
        "pandas_df['A1Cresult'] = pandas_df['A1Cresult'].map(A1Cresult_mapping)\n",
        "pandas_df['metformin'] = pandas_df['metformin'].map(metformin_mapping)\n",
        "pandas_df['repaglinide'] = pandas_df['repaglinide'].map(repaglinide_mapping)\n",
        "pandas_df['nateglinide'] = pandas_df['nateglinide'].map(nateglinide_mapping)\n",
        "pandas_df['chlorpropamide'] = pandas_df['chlorpropamide'].map(chlorpropamide_mapping)\n",
        "pandas_df['glimepiride'] = pandas_df['glimepiride'].map(glimepiride_mapping)\n",
        "pandas_df['acetohexamide'] = pandas_df['acetohexamide'].map(acetohexamide_mapping)\n",
        "pandas_df['glipizide'] = pandas_df['glipizide'].map(glipizide_mapping)\n",
        "pandas_df['glyburide'] = pandas_df['glyburide'].map(glyburide_mapping)\n",
        "pandas_df['tolbutamide'] = pandas_df['tolbutamide'].map(tolbutamide_mapping)\n",
        "pandas_df['pioglitazone'] = pandas_df['pioglitazone'].map(pioglitazone_mapping)\n",
        "pandas_df['rosiglitazone'] = pandas_df['rosiglitazone'].map(rosiglitazone_mapping)\n",
        "pandas_df['acarbose'] = pandas_df['acarbose'].map(acarbose_mapping)\n",
        "pandas_df['miglitol'] = pandas_df['miglitol'].map(miglitol_mapping)\n",
        "pandas_df['troglitazone'] = pandas_df['troglitazone'].map(troglitazone_mapping)\n",
        "pandas_df['tolazamide'] = pandas_df['tolazamide'].map(tolazamide_mapping)\n",
        "pandas_df['examide'] = pandas_df['examide'].map(examide_mapping)\n",
        "pandas_df['citoglipton'] = pandas_df['citoglipton'].map(citoglipton_mapping)\n",
        "pandas_df['insulin'] = pandas_df['insulin'].map(insulin_mapping)\n",
        "pandas_df['glyburide-metformin'] = pandas_df['glyburide-metformin'].map(glyburide_metformin_mapping)\n",
        "pandas_df['glipizide-metformin'] = pandas_df['glipizide-metformin'].map(glipizide_metformin_mapping)\n",
        "pandas_df['glimepiride-pioglitazone'] = pandas_df['glimepiride-pioglitazone'].map(glimepiride_pioglitazone_mapping)\n",
        "pandas_df['metformin-rosiglitazone'] = pandas_df['metformin-rosiglitazone'].map(metformin_rosiglitazone_mapping)\n",
        "pandas_df['metformin-pioglitazone'] = pandas_df['metformin-pioglitazone'].map(metformin_pioglitazone_mapping)"
      ]
    },
    {
      "cell_type": "code",
      "execution_count": null,
      "metadata": {
        "id": "jAgVgfK-ZaVS"
      },
      "outputs": [],
      "source": [
        "pandas_df.dtypes"
      ]
    },
    {
      "cell_type": "code",
      "execution_count": null,
      "metadata": {
        "id": "cBTGssmdaZ21",
        "colab": {
          "base_uri": "https://localhost:8080/"
        },
        "outputId": "3b6e3f21-9bb9-4bdb-c570-71151d9a2052"
      },
      "outputs": [
        {
          "output_type": "execute_result",
          "data": {
            "text/plain": [
              "race                        int64\n",
              "gender                      int64\n",
              "age                         int64\n",
              "admission_type_id           int64\n",
              "discharge_disposition_id    int64\n",
              "admission_source_id         int64\n",
              "time_in_hospital            int64\n",
              "num_lab_procedures          int64\n",
              "num_procedures              int64\n",
              "num_medications             int64\n",
              "number_outpatient           int64\n",
              "number_emergency            int64\n",
              "number_inpatient            int64\n",
              "number_diagnoses            int64\n",
              "max_glu_serum               int64\n",
              "A1Cresult                   int64\n",
              "metformin                   int64\n",
              "repaglinide                 int64\n",
              "nateglinide                 int64\n",
              "chlorpropamide              int64\n",
              "glimepiride                 int64\n",
              "acetohexamide               int64\n",
              "glipizide                   int64\n",
              "glyburide                   int64\n",
              "tolbutamide                 int64\n",
              "pioglitazone                int64\n",
              "rosiglitazone               int64\n",
              "acarbose                    int64\n",
              "miglitol                    int64\n",
              "troglitazone                int64\n",
              "tolazamide                  int64\n",
              "examide                     int64\n",
              "citoglipton                 int64\n",
              "insulin                     int64\n",
              "glyburide-metformin         int64\n",
              "glipizide-metformin         int64\n",
              "glimepiride-pioglitazone    int64\n",
              "metformin-rosiglitazone     int64\n",
              "metformin-pioglitazone      int64\n",
              "change                      int64\n",
              "diabetesMed                 int64\n",
              "diag_1_encoded              int64\n",
              "diag_2_encoded              int64\n",
              "diag_3_encoded              int64\n",
              "dtype: object"
            ]
          },
          "metadata": {},
          "execution_count": 12
        }
      ],
      "source": [
        "pandas_df_numeric = pandas_df.drop(columns=['diag_1', 'diag_2', 'diag_3'])\n",
        "pandas_df_numeric.dtypes"
      ]
    },
    {
      "cell_type": "code",
      "execution_count": null,
      "metadata": {
        "id": "KhUcMVp0j5j-",
        "colab": {
          "base_uri": "https://localhost:8080/"
        },
        "outputId": "957937fd-db13-4735-a168-ca65a3ac56e3"
      },
      "outputs": [
        {
          "output_type": "execute_result",
          "data": {
            "text/plain": [
              "race                        0\n",
              "gender                      0\n",
              "age                         0\n",
              "admission_type_id           0\n",
              "discharge_disposition_id    0\n",
              "admission_source_id         0\n",
              "time_in_hospital            0\n",
              "num_lab_procedures          0\n",
              "num_procedures              0\n",
              "num_medications             0\n",
              "number_outpatient           0\n",
              "number_emergency            0\n",
              "number_inpatient            0\n",
              "number_diagnoses            0\n",
              "max_glu_serum               0\n",
              "A1Cresult                   0\n",
              "metformin                   0\n",
              "repaglinide                 0\n",
              "nateglinide                 0\n",
              "chlorpropamide              0\n",
              "glimepiride                 0\n",
              "acetohexamide               0\n",
              "glipizide                   0\n",
              "glyburide                   0\n",
              "tolbutamide                 0\n",
              "pioglitazone                0\n",
              "rosiglitazone               0\n",
              "acarbose                    0\n",
              "miglitol                    0\n",
              "troglitazone                0\n",
              "tolazamide                  0\n",
              "examide                     0\n",
              "citoglipton                 0\n",
              "insulin                     0\n",
              "glyburide-metformin         0\n",
              "glipizide-metformin         0\n",
              "glimepiride-pioglitazone    0\n",
              "metformin-rosiglitazone     0\n",
              "metformin-pioglitazone      0\n",
              "change                      0\n",
              "diabetesMed                 0\n",
              "diag_1_encoded              0\n",
              "diag_2_encoded              0\n",
              "diag_3_encoded              0\n",
              "dtype: int64"
            ]
          },
          "metadata": {},
          "execution_count": 13
        }
      ],
      "source": [
        " pandas_df_numeric.isnull().sum()"
      ]
    },
    {
      "cell_type": "code",
      "execution_count": null,
      "metadata": {
        "id": "9ZpgjFNBdFk0"
      },
      "outputs": [],
      "source": [
        "pandas_df_numeric.shape"
      ]
    },
    {
      "cell_type": "code",
      "execution_count": null,
      "metadata": {
        "id": "VH8vGcT56i_v"
      },
      "outputs": [],
      "source": [
        "pandas_df_numeric"
      ]
    },
    {
      "cell_type": "code",
      "execution_count": null,
      "metadata": {
        "id": "0MIqQjuJ7Gyy"
      },
      "outputs": [],
      "source": [
        "pandas_df_tar"
      ]
    },
    {
      "cell_type": "code",
      "execution_count": null,
      "metadata": {
        "id": "IzhI_bw2RPun",
        "colab": {
          "base_uri": "https://localhost:8080/",
          "height": 466
        },
        "outputId": "67ea28d2-0a29-4058-f08b-fb204d8d176b"
      },
      "outputs": [
        {
          "output_type": "execute_result",
          "data": {
            "text/plain": [
              "Text(0.5, 0, 'Count')"
            ]
          },
          "metadata": {},
          "execution_count": 14
        },
        {
          "output_type": "display_data",
          "data": {
            "text/plain": [
              "<Figure size 640x480 with 1 Axes>"
            ],
            "image/png": "[encoded data removed]"
          },
          "metadata": {}
        }
      ],
      "source": [
        "# @title readmitted\n",
        "\n",
        "from matplotlib import pyplot as plt\n",
        "import seaborn as sns\n",
        "pandas_df_tar.groupby('readmitted').size().plot(kind='barh', color=sns.palettes.mpl_palette('Dark2'))\n",
        "plt.gca().spines[['top', 'right',]].set_visible(False)\n",
        "plt.xlabel('Count')"
      ]
    },
    {
      "cell_type": "code",
      "execution_count": null,
      "metadata": {
        "id": "h4z53Q89qRpD",
        "colab": {
          "base_uri": "https://localhost:8080/"
        },
        "outputId": "723eebf2-c01c-4431-b701-850480009a88"
      },
      "outputs": [
        {
          "output_type": "execute_result",
          "data": {
            "text/plain": [
              "0    86987\n",
              "1    11066\n",
              "Name: readmitted, dtype: int64"
            ]
          },
          "metadata": {},
          "execution_count": 15
        }
      ],
      "source": [
        "# prompt: Using dataframe pandas_df_tar: replace the categories >30 and NO by 0, and <30 by 1 and save this df as pandas_df_tar_binom\n",
        "\n",
        "pandas_df_tar_binom = pandas_df_tar.copy()\n",
        "pandas_df_tar_binom['readmitted'] = pandas_df_tar_binom['readmitted'].replace({'>30': 0, 'NO': 0, '<30': 1})\n",
        "pandas_df_tar_binom['readmitted'].value_counts()"
      ]
    },
    {
      "cell_type": "code",
      "execution_count": null,
      "metadata": {
        "id": "OVr6y0lEm2Fm",
        "colab": {
          "base_uri": "https://localhost:8080/",
          "height": 466
        },
        "outputId": "c2f08372-cae6-4a88-c019-8fa038447fad"
      },
      "outputs": [
        {
          "output_type": "execute_result",
          "data": {
            "text/plain": [
              "Text(0.5, 0, 'Count')"
            ]
          },
          "metadata": {},
          "execution_count": 16
        },
        {
          "output_type": "display_data",
          "data": {
            "text/plain": [
              "<Figure size 640x480 with 1 Axes>"
            ],
            "image/png": "[encoded data removed]"
          },
          "metadata": {}
        }
      ],
      "source": [
        "from matplotlib import pyplot as plt\n",
        "import seaborn as sns\n",
        "pandas_df_tar_binom.groupby('readmitted').size().plot(kind='barh', color=sns.palettes.mpl_palette('Dark2'))\n",
        "plt.gca().spines[['top', 'right',]].set_visible(False)\n",
        "plt.xlabel('Count')"
      ]
    },
    {
      "cell_type": "markdown",
      "metadata": {
        "id": "mNc01OuVoIhV"
      },
      "source": [
        "looking at descriptions of the data"
      ]
    },
    {
      "cell_type": "code",
      "execution_count": null,
      "metadata": {
        "id": "YPWkLQsvdH04",
        "colab": {
          "base_uri": "https://localhost:8080/",
          "height": 367
        },
        "outputId": "e58cafd1-94ef-4920-d52e-324d9fd50d6b"
      },
      "outputs": [
        {
          "output_type": "execute_result",
          "data": {
            "text/plain": [
              "               race        gender           age  admission_type_id  \\\n",
              "count  98053.000000  98053.000000  98053.000000       98053.000000   \n",
              "mean       1.659011      0.461189      6.126034           2.025813   \n",
              "std        0.860882      0.498514      1.559075           1.450117   \n",
              "min        0.000000      0.000000      0.000000           1.000000   \n",
              "25%        2.000000      0.000000      5.000000           1.000000   \n",
              "50%        2.000000      0.000000      6.000000           1.000000   \n",
              "75%        2.000000      1.000000      7.000000           3.000000   \n",
              "max        4.000000      2.000000      9.000000           8.000000   \n",
              "\n",
              "       discharge_disposition_id  admission_source_id  time_in_hospital  \\\n",
              "count              98053.000000         98053.000000      98053.000000   \n",
              "mean                   3.753368             5.776692          4.421976   \n",
              "std                    5.309392             4.071640          2.993074   \n",
              "min                    1.000000             1.000000          1.000000   \n",
              "25%                    1.000000             1.000000          2.000000   \n",
              "50%                    1.000000             7.000000          4.000000   \n",
              "75%                    4.000000             7.000000          6.000000   \n",
              "max                   28.000000            25.000000         14.000000   \n",
              "\n",
              "       num_lab_procedures  num_procedures  num_medications  ...  \\\n",
              "count        98053.000000    98053.000000     98053.000000  ...   \n",
              "mean            43.148073        1.350749        16.119650  ...   \n",
              "std             19.712033        1.708506         8.108476  ...   \n",
              "min              1.000000        0.000000         1.000000  ...   \n",
              "25%             31.000000        0.000000        11.000000  ...   \n",
              "50%             44.000000        1.000000        15.000000  ...   \n",
              "75%             57.000000        2.000000        20.000000  ...   \n",
              "max            132.000000        6.000000        81.000000  ...   \n",
              "\n",
              "       glyburide-metformin  glipizide-metformin  glimepiride-pioglitazone  \\\n",
              "count         98053.000000         98053.000000              98053.000000   \n",
              "mean              0.006945             0.000133                  0.000010   \n",
              "std               0.084871             0.011514                  0.003194   \n",
              "min               0.000000             0.000000                  0.000000   \n",
              "25%               0.000000             0.000000                  0.000000   \n",
              "50%               0.000000             0.000000                  0.000000   \n",
              "75%               0.000000             0.000000                  0.000000   \n",
              "max               3.000000             1.000000                  1.000000   \n",
              "\n",
              "       metformin-rosiglitazone  metformin-pioglitazone        change  \\\n",
              "count                  98053.0            98053.000000  98053.000000   \n",
              "mean                       0.0                0.000010      0.538219   \n",
              "std                        0.0                0.003194      0.498540   \n",
              "min                        0.0                0.000000      0.000000   \n",
              "25%                        0.0                0.000000      0.000000   \n",
              "50%                        0.0                0.000000      1.000000   \n",
              "75%                        0.0                0.000000      1.000000   \n",
              "max                        0.0                1.000000      1.000000   \n",
              "\n",
              "        diabetesMed  diag_1_encoded  diag_2_encoded  diag_3_encoded  \n",
              "count  98053.000000    98053.000000    98053.000000    98053.000000  \n",
              "mean       0.768472       62.143065       75.532926       72.977502  \n",
              "std        0.421811       35.572248       38.924197       38.782626  \n",
              "min        0.000000        0.000000        0.000000        0.000000  \n",
              "25%        1.000000       23.000000       28.000000       29.000000  \n",
              "50%        1.000000       59.000000       87.000000       69.000000  \n",
              "75%        1.000000       92.000000      108.000000      108.000000  \n",
              "max        1.000000      120.000000      143.000000      143.000000  \n",
              "\n",
              "[8 rows x 44 columns]"
            ],
            "text/html": [
              "\n",
              "  <div id=\"df-d75ea72a-6f92-4ad8-893f-a665b16e44b3\" class=\"colab-df-container\">\n",
              "    <div>\n",
              "<style scoped>\n",
              "    .dataframe tbody tr th:only-of-type {\n",
              "        vertical-align: middle;\n",
              "    }\n",
              "\n",
              "    .dataframe tbody tr th {\n",
              "        vertical-align: top;\n",
              "    }\n",
              "\n",
              "    .dataframe thead th {\n",
              "        text-align: right;\n",
              "    }\n",
              "</style>\n",
              "<table border=\"1\" class=\"dataframe\">\n",
              "  <thead>\n",
              "    <tr style=\"text-align: right;\">\n",
              "      <th></th>\n",
              "      <th>race</th>\n",
              "      <th>gender</th>\n",
              "      <th>age</th>\n",
              "      <th>admission_type_id</th>\n",
              "      <th>discharge_disposition_id</th>\n",
              "      <th>admission_source_id</th>\n",
              "      <th>time_in_hospital</th>\n",
              "      <th>num_lab_procedures</th>\n",
              "      <th>num_procedures</th>\n",
              "      <th>num_medications</th>\n",
              "      <th>...</th>\n",
              "      <th>glyburide-metformin</th>\n",
              "      <th>glipizide-metformin</th>\n",
              "      <th>glimepiride-pioglitazone</th>\n",
              "      <th>metformin-rosiglitazone</th>\n",
              "      <th>metformin-pioglitazone</th>\n",
              "      <th>change</th>\n",
              "      <th>diabetesMed</th>\n",
              "      <th>diag_1_encoded</th>\n",
              "      <th>diag_2_encoded</th>\n",
              "      <th>diag_3_encoded</th>\n",
              "    </tr>\n",
              "  </thead>\n",
              "  <tbody>\n",
              "    <tr>\n",
              "      <th>count</th>\n",
              "      <td>98053.000000</td>\n",
              "      <td>98053.000000</td>\n",
              "      <td>98053.000000</td>\n",
              "      <td>98053.000000</td>\n",
              "      <td>98053.000000</td>\n",
              "      <td>98053.000000</td>\n",
              "      <td>98053.000000</td>\n",
              "      <td>98053.000000</td>\n",
              "      <td>98053.000000</td>\n",
              "      <td>98053.000000</td>\n",
              "      <td>...</td>\n",
              "      <td>98053.000000</td>\n",
              "      <td>98053.000000</td>\n",
              "      <td>98053.000000</td>\n",
              "      <td>98053.0</td>\n",
              "      <td>98053.000000</td>\n",
              "      <td>98053.000000</td>\n",
              "      <td>98053.000000</td>\n",
              "      <td>98053.000000</td>\n",
              "      <td>98053.000000</td>\n",
              "      <td>98053.000000</td>\n",
              "    </tr>\n",
              "    <tr>\n",
              "      <th>mean</th>\n",
              "      <td>1.659011</td>\n",
              "      <td>0.461189</td>\n",
              "      <td>6.126034</td>\n",
              "      <td>2.025813</td>\n",
              "      <td>3.753368</td>\n",
              "      <td>5.776692</td>\n",
              "      <td>4.421976</td>\n",
              "      <td>43.148073</td>\n",
              "      <td>1.350749</td>\n",
              "      <td>16.119650</td>\n",
              "      <td>...</td>\n",
              "      <td>0.006945</td>\n",
              "      <td>0.000133</td>\n",
              "      <td>0.000010</td>\n",
              "      <td>0.0</td>\n",
              "      <td>0.000010</td>\n",
              "      <td>0.538219</td>\n",
              "      <td>0.768472</td>\n",
              "      <td>62.143065</td>\n",
              "      <td>75.532926</td>\n",
              "      <td>72.977502</td>\n",
              "    </tr>\n",
              "    <tr>\n",
              "      <th>std</th>\n",
              "      <td>0.860882</td>\n",
              "      <td>0.498514</td>\n",
              "      <td>1.559075</td>\n",
              "      <td>1.450117</td>\n",
              "      <td>5.309392</td>\n",
              "      <td>4.071640</td>\n",
              "      <td>2.993074</td>\n",
              "      <td>19.712033</td>\n",
              "      <td>1.708506</td>\n",
              "      <td>8.108476</td>\n",
              "      <td>...</td>\n",
              "      <td>0.084871</td>\n",
              "      <td>0.011514</td>\n",
              "      <td>0.003194</td>\n",
              "      <td>0.0</td>\n",
              "      <td>0.003194</td>\n",
              "      <td>0.498540</td>\n",
              "      <td>0.421811</td>\n",
              "      <td>35.572248</td>\n",
              "      <td>38.924197</td>\n",
              "      <td>38.782626</td>\n",
              "    </tr>\n",
              "    <tr>\n",
              "      <th>min</th>\n",
              "      <td>0.000000</td>\n",
              "      <td>0.000000</td>\n",
              "      <td>0.000000</td>\n",
              "      <td>1.000000</td>\n",
              "      <td>1.000000</td>\n",
              "      <td>1.000000</td>\n",
              "      <td>1.000000</td>\n",
              "      <td>1.000000</td>\n",
              "      <td>0.000000</td>\n",
              "      <td>1.000000</td>\n",
              "      <td>...</td>\n",
              "      <td>0.000000</td>\n",
              "      <td>0.000000</td>\n",
              "      <td>0.000000</td>\n",
              "      <td>0.0</td>\n",
              "      <td>0.000000</td>\n",
              "      <td>0.000000</td>\n",
              "      <td>0.000000</td>\n",
              "      <td>0.000000</td>\n",
              "      <td>0.000000</td>\n",
              "      <td>0.000000</td>\n",
              "    </tr>\n",
              "    <tr>\n",
              "      <th>25%</th>\n",
              "      <td>2.000000</td>\n",
              "      <td>0.000000</td>\n",
              "      <td>5.000000</td>\n",
              "      <td>1.000000</td>\n",
              "      <td>1.000000</td>\n",
              "      <td>1.000000</td>\n",
              "      <td>2.000000</td>\n",
              "      <td>31.000000</td>\n",
              "      <td>0.000000</td>\n",
              "      <td>11.000000</td>\n",
              "      <td>...</td>\n",
              "      <td>0.000000</td>\n",
              "      <td>0.000000</td>\n",
              "      <td>0.000000</td>\n",
              "      <td>0.0</td>\n",
              "      <td>0.000000</td>\n",
              "      <td>0.000000</td>\n",
              "      <td>1.000000</td>\n",
              "      <td>23.000000</td>\n",
              "      <td>28.000000</td>\n",
              "      <td>29.000000</td>\n",
              "    </tr>\n",
              "    <tr>\n",
              "      <th>50%</th>\n",
              "      <td>2.000000</td>\n",
              "      <td>0.000000</td>\n",
              "      <td>6.000000</td>\n",
              "      <td>1.000000</td>\n",
              "      <td>1.000000</td>\n",
              "      <td>7.000000</td>\n",
              "      <td>4.000000</td>\n",
              "      <td>44.000000</td>\n",
              "      <td>1.000000</td>\n",
              "      <td>15.000000</td>\n",
              "      <td>...</td>\n",
              "      <td>0.000000</td>\n",
              "      <td>0.000000</td>\n",
              "      <td>0.000000</td>\n",
              "      <td>0.0</td>\n",
              "      <td>0.000000</td>\n",
              "      <td>1.000000</td>\n",
              "      <td>1.000000</td>\n",
              "      <td>59.000000</td>\n",
              "      <td>87.000000</td>\n",
              "      <td>69.000000</td>\n",
              "    </tr>\n",
              "    <tr>\n",
              "      <th>75%</th>\n",
              "      <td>2.000000</td>\n",
              "      <td>1.000000</td>\n",
              "      <td>7.000000</td>\n",
              "      <td>3.000000</td>\n",
              "      <td>4.000000</td>\n",
              "      <td>7.000000</td>\n",
              "      <td>6.000000</td>\n",
              "      <td>57.000000</td>\n",
              "      <td>2.000000</td>\n",
              "      <td>20.000000</td>\n",
              "      <td>...</td>\n",
              "      <td>0.000000</td>\n",
              "      <td>0.000000</td>\n",
              "      <td>0.000000</td>\n",
              "      <td>0.0</td>\n",
              "      <td>0.000000</td>\n",
              "      <td>1.000000</td>\n",
              "      <td>1.000000</td>\n",
              "      <td>92.000000</td>\n",
              "      <td>108.000000</td>\n",
              "      <td>108.000000</td>\n",
              "    </tr>\n",
              "    <tr>\n",
              "      <th>max</th>\n",
              "      <td>4.000000</td>\n",
              "      <td>2.000000</td>\n",
              "      <td>9.000000</td>\n",
              "      <td>8.000000</td>\n",
              "      <td>28.000000</td>\n",
              "      <td>25.000000</td>\n",
              "      <td>14.000000</td>\n",
              "      <td>132.000000</td>\n",
              "      <td>6.000000</td>\n",
              "      <td>81.000000</td>\n",
              "      <td>...</td>\n",
              "      <td>3.000000</td>\n",
              "      <td>1.000000</td>\n",
              "      <td>1.000000</td>\n",
              "      <td>0.0</td>\n",
              "      <td>1.000000</td>\n",
              "      <td>1.000000</td>\n",
              "      <td>1.000000</td>\n",
              "      <td>120.000000</td>\n",
              "      <td>143.000000</td>\n",
              "      <td>143.000000</td>\n",
              "    </tr>\n",
              "  </tbody>\n",
              "</table>\n",
              "<p>8 rows × 44 columns</p>\n",
              "</div>\n",
              "    <div class=\"colab-df-buttons\">\n",
              "\n",
              "  <div class=\"colab-df-container\">\n",
              "    <button class=\"colab-df-convert\" onclick=\"convertToInteractive('df-d75ea72a-6f92-4ad8-893f-a665b16e44b3')\"\n",
              "            title=\"Convert this dataframe to an interactive table.\"\n",
              "            style=\"display:none;\">\n",
              "\n",
              "  <svg xmlns=\"http://www.w3.org/2000/svg\" height=\"24px\" viewBox=\"0 -960 960 960\">\n",
              "    <path d=\"M120-120v-720h720v720H120Zm60-500h600v-160H180v160Zm220 220h160v-160H400v160Zm0 220h160v-160H400v160ZM180-400h160v-160H180v160Zm440 0h160v-160H620v160ZM180-180h160v-160H180v160Zm440 0h160v-160H620v160Z\"/>\n",
              "  </svg>\n",
              "    </button>\n",
              "\n",
              "  <style>\n",
              "    .colab-df-container {\n",
              "      display:flex;\n",
              "      gap: 12px;\n",
              "    }\n",
              "\n",
              "    .colab-df-convert {\n",
              "      background-color: #E8F0FE;\n",
              "      border: none;\n",
              "      border-radius: 50%;\n",
              "      cursor: pointer;\n",
              "      display: none;\n",
              "      fill: #1967D2;\n",
              "      height: 32px;\n",
              "      padding: 0 0 0 0;\n",
              "      width: 32px;\n",
              "    }\n",
              "\n",
              "    .colab-df-convert:hover {\n",
              "      background-color: #E2EBFA;\n",
              "      box-shadow: 0px 1px 2px rgba(60, 64, 67, 0.3), 0px 1px 3px 1px rgba(60, 64, 67, 0.15);\n",
              "      fill: #174EA6;\n",
              "    }\n",
              "\n",
              "    .colab-df-buttons div {\n",
              "      margin-bottom: 4px;\n",
              "    }\n",
              "\n",
              "    [theme=dark] .colab-df-convert {\n",
              "      background-color: #3B4455;\n",
              "      fill: #D2E3FC;\n",
              "    }\n",
              "\n",
              "    [theme=dark] .colab-df-convert:hover {\n",
              "      background-color: #434B5C;\n",
              "      box-shadow: 0px 1px 3px 1px rgba(0, 0, 0, 0.15);\n",
              "      filter: drop-shadow(0px 1px 2px rgba(0, 0, 0, 0.3));\n",
              "      fill: #FFFFFF;\n",
              "    }\n",
              "  </style>\n",
              "\n",
              "    <script>\n",
              "      const buttonEl =\n",
              "        document.querySelector('#df-d75ea72a-6f92-4ad8-893f-a665b16e44b3 button.colab-df-convert');\n",
              "      buttonEl.style.display =\n",
              "        google.colab.kernel.accessAllowed ? 'block' : 'none';\n",
              "\n",
              "      async function convertToInteractive(key) {\n",
              "        const element = document.querySelector('#df-d75ea72a-6f92-4ad8-893f-a665b16e44b3');\n",
              "        const dataTable =\n",
              "          await google.colab.kernel.invokeFunction('convertToInteractive',\n",
              "                                                    [key], {});\n",
              "        if (!dataTable) return;\n",
              "\n",
              "        const docLinkHtml = 'Like what you see? Visit the ' +\n",
              "          '<a target=\"_blank\" href=https://colab.research.google.com/notebooks/data_table.ipynb>data table notebook</a>'\n",
              "          + ' to learn more about interactive tables.';\n",
              "        element.innerHTML = '';\n",
              "        dataTable['output_type'] = 'display_data';\n",
              "        await google.colab.output.renderOutput(dataTable, element);\n",
              "        const docLink = document.createElement('div');\n",
              "        docLink.innerHTML = docLinkHtml;\n",
              "        element.appendChild(docLink);\n",
              "      }\n",
              "    </script>\n",
              "  </div>\n",
              "\n",
              "\n",
              "<div id=\"df-4b8aaf2a-cee6-47cb-a619-ac4397650269\">\n",
              "  <button class=\"colab-df-quickchart\" onclick=\"quickchart('df-4b8aaf2a-cee6-47cb-a619-ac4397650269')\"\n",
              "            title=\"Suggest charts\"\n",
              "            style=\"display:none;\">\n",
              "\n",
              "<svg xmlns=\"http://www.w3.org/2000/svg\" height=\"24px\"viewBox=\"0 0 24 24\"\n",
              "     width=\"24px\">\n",
              "    <g>\n",
              "        <path d=\"M19 3H5c-1.1 0-2 .9-2 2v14c0 1.1.9 2 2 2h14c1.1 0 2-.9 2-2V5c0-1.1-.9-2-2-2zM9 17H7v-7h2v7zm4 0h-2V7h2v10zm4 0h-2v-4h2v4z\"/>\n",
              "    </g>\n",
              "</svg>\n",
              "  </button>\n",
              "\n",
              "<style>\n",
              "  .colab-df-quickchart {\n",
              "      --bg-color: #E8F0FE;\n",
              "      --fill-color: #1967D2;\n",
              "      --hover-bg-color: #E2EBFA;\n",
              "      --hover-fill-color: #174EA6;\n",
              "      --disabled-fill-color: #AAA;\n",
              "      --disabled-bg-color: #DDD;\n",
              "  }\n",
              "\n",
              "  [theme=dark] .colab-df-quickchart {\n",
              "      --bg-color: #3B4455;\n",
              "      --fill-color: #D2E3FC;\n",
              "      --hover-bg-color: #434B5C;\n",
              "      --hover-fill-color: #FFFFFF;\n",
              "      --disabled-bg-color: #3B4455;\n",
              "      --disabled-fill-color: #666;\n",
              "  }\n",
              "\n",
              "  .colab-df-quickchart {\n",
              "    background-color: var(--bg-color);\n",
              "    border: none;\n",
              "    border-radius: 50%;\n",
              "    cursor: pointer;\n",
              "    display: none;\n",
              "    fill: var(--fill-color);\n",
              "    height: 32px;\n",
              "    padding: 0;\n",
              "    width: 32px;\n",
              "  }\n",
              "\n",
              "  .colab-df-quickchart:hover {\n",
              "    background-color: var(--hover-bg-color);\n",
              "    box-shadow: 0 1px 2px rgba(60, 64, 67, 0.3), 0 1px 3px 1px rgba(60, 64, 67, 0.15);\n",
              "    fill: var(--button-hover-fill-color);\n",
              "  }\n",
              "\n",
              "  .colab-df-quickchart-complete:disabled,\n",
              "  .colab-df-quickchart-complete:disabled:hover {\n",
              "    background-color: var(--disabled-bg-color);\n",
              "    fill: var(--disabled-fill-color);\n",
              "    box-shadow: none;\n",
              "  }\n",
              "\n",
              "  .colab-df-spinner {\n",
              "    border: 2px solid var(--fill-color);\n",
              "    border-color: transparent;\n",
              "    border-bottom-color: var(--fill-color);\n",
              "    animation:\n",
              "      spin 1s steps(1) infinite;\n",
              "  }\n",
              "\n",
              "  @keyframes spin {\n",
              "    0% {\n",
              "      border-color: transparent;\n",
              "      border-bottom-color: var(--fill-color);\n",
              "      border-left-color: var(--fill-color);\n",
              "    }\n",
              "    20% {\n",
              "      border-color: transparent;\n",
              "      border-left-color: var(--fill-color);\n",
              "      border-top-color: var(--fill-color);\n",
              "    }\n",
              "    30% {\n",
              "      border-color: transparent;\n",
              "      border-left-color: var(--fill-color);\n",
              "      border-top-color: var(--fill-color);\n",
              "      border-right-color: var(--fill-color);\n",
              "    }\n",
              "    40% {\n",
              "      border-color: transparent;\n",
              "      border-right-color: var(--fill-color);\n",
              "      border-top-color: var(--fill-color);\n",
              "    }\n",
              "    60% {\n",
              "      border-color: transparent;\n",
              "      border-right-color: var(--fill-color);\n",
              "    }\n",
              "    80% {\n",
              "      border-color: transparent;\n",
              "      border-right-color: var(--fill-color);\n",
              "      border-bottom-color: var(--fill-color);\n",
              "    }\n",
              "    90% {\n",
              "      border-color: transparent;\n",
              "      border-bottom-color: var(--fill-color);\n",
              "    }\n",
              "  }\n",
              "</style>\n",
              "\n",
              "  <script>\n",
              "    async function quickchart(key) {\n",
              "      const quickchartButtonEl =\n",
              "        document.querySelector('#' + key + ' button');\n",
              "      quickchartButtonEl.disabled = true;  // To prevent multiple clicks.\n",
              "      quickchartButtonEl.classList.add('colab-df-spinner');\n",
              "      try {\n",
              "        const charts = await google.colab.kernel.invokeFunction(\n",
              "            'suggestCharts', [key], {});\n",
              "      } catch (error) {\n",
              "        console.error('Error during call to suggestCharts:', error);\n",
              "      }\n",
              "      quickchartButtonEl.classList.remove('colab-df-spinner');\n",
              "      quickchartButtonEl.classList.add('colab-df-quickchart-complete');\n",
              "    }\n",
              "    (() => {\n",
              "      let quickchartButtonEl =\n",
              "        document.querySelector('#df-4b8aaf2a-cee6-47cb-a619-ac4397650269 button');\n",
              "      quickchartButtonEl.style.display =\n",
              "        google.colab.kernel.accessAllowed ? 'block' : 'none';\n",
              "    })();\n",
              "  </script>\n",
              "</div>\n",
              "\n",
              "    </div>\n",
              "  </div>\n"
            ],
            "application/vnd.google.colaboratory.intrinsic+json": {
              "type": "dataframe"
            }
          },
          "metadata": {},
          "execution_count": 17
        }
      ],
      "source": [
        "pandas_df_numeric.describe()"
      ]
    },
    {
      "cell_type": "markdown",
      "metadata": {
        "id": "Fzj8JDC24HEh"
      },
      "source": [
        "Try some correlation analysis"
      ]
    },
    {
      "cell_type": "code",
      "execution_count": null,
      "metadata": {
        "id": "cqcRF8Fh4J5V",
        "colab": {
          "base_uri": "https://localhost:8080/"
        },
        "outputId": "7cbdfefe-e381-4349-a7b1-9def62d634fc"
      },
      "outputs": [
        {
          "output_type": "stream",
          "name": "stderr",
          "text": [
            "/usr/local/lib/python3.10/dist-packages/statsmodels/regression/linear_model.py:1784: RuntimeWarning: invalid value encountered in scalar divide\n",
            "  return 1 - self.ssr/self.uncentered_tss\n"
          ]
        },
        {
          "output_type": "stream",
          "name": "stdout",
          "text": [
            "Highly collinear features:\n",
            "['age', 'num_lab_procedures', 'num_medications', 'number_diagnoses', 'change', 'diabetesMed']\n"
          ]
        }
      ],
      "source": [
        "# prompt: merge pandas_df_numeric and pandas_df_tar_binom, and then generate a vif matrix and identify highly collinear features\n",
        "\n",
        "import pandas as pd\n",
        "import numpy as np\n",
        "from statsmodels.stats.outliers_influence import variance_inflation_factor as vif\n",
        "\n",
        "# Merge pandas_df_numeric and pandas_df_tar_binom\n",
        "df_merged = pd.merge(pandas_df_numeric, pandas_df_tar_binom, left_index=True, right_index=True)\n",
        "\n",
        "# Generate VIF matrix\n",
        "vif_df = pd.DataFrame()\n",
        "vif_df[\"features\"] = df_merged.columns\n",
        "vif_df[\"vif_value\"] = [vif(df_merged.values, i) for i in range(df_merged.shape[1])]\n",
        "\n",
        "# Identify highly collinear features\n",
        "threshold = 5\n",
        "high_vif_features = vif_df[vif_df[\"vif_value\"] > threshold][\"features\"].tolist()\n",
        "\n",
        "# Print the highly collinear features\n",
        "print(\"Highly collinear features:\")\n",
        "print(high_vif_features)\n"
      ]
    },
    {
      "cell_type": "code",
      "execution_count": null,
      "metadata": {
        "id": "VeJhCfAa51tA",
        "colab": {
          "base_uri": "https://localhost:8080/"
        },
        "outputId": "978ba163-f7ea-434a-da16-af749338558f"
      },
      "outputs": [
        {
          "output_type": "stream",
          "name": "stdout",
          "text": [
            "Pairs of features with high correlation (threshold 0.4):\n",
            "admission_source_id, max_glu_serum\n",
            "time_in_hospital, num_medications\n",
            "insulin, change\n",
            "insulin, diabetesMed\n",
            "change, diabetesMed\n"
          ]
        }
      ],
      "source": [
        "# prompt: in df_merged, generate a correlation matrix and identify the pairs of features with high correlation, threshold being 0.4\n",
        "\n",
        "import matplotlib.pyplot as plt\n",
        "import pandas as pd\n",
        "\n",
        "# Calculate the correlation matrix\n",
        "correlation_matrix = df_merged.corr()\n",
        "\n",
        "# Select the pairs of features with high correlation\n",
        "high_correlation_pairs = []\n",
        "for i in range(len(correlation_matrix.columns)):\n",
        "    for j in range(i + 1, len(correlation_matrix.columns)):\n",
        "        if abs(correlation_matrix.iloc[i, j]) > 0.4:\n",
        "            high_correlation_pairs.append((correlation_matrix.columns[i], correlation_matrix.columns[j]))\n",
        "\n",
        "# Print the pairs of features with high correlation\n",
        "print(\"Pairs of features with high correlation (threshold 0.4):\")\n",
        "for pair in high_correlation_pairs:\n",
        "    print(f\"{pair[0]}, {pair[1]}\")\n"
      ]
    },
    {
      "cell_type": "markdown",
      "metadata": {
        "id": "C418bR9moLWU"
      },
      "source": [
        "split data into training and testing sets"
      ]
    },
    {
      "cell_type": "code",
      "execution_count": null,
      "metadata": {
        "id": "uN71rc3ZKNAW"
      },
      "outputs": [],
      "source": [
        "from sklearn.model_selection import train_test_split\n",
        "\n",
        "X = pandas_df_numeric\n",
        "#y = pandas_df_tar\n",
        "y = pandas_df_tar_binom\n",
        "\n",
        "# Split data into training and testing sets\n",
        "# X_train, X_test, y_train, y_test = train_test_split(X, y, test_size=0.2, random_state=42)  # 20% of data for testing"
      ]
    },
    {
      "cell_type": "markdown",
      "metadata": {
        "id": "gyzmj-bZchVX"
      },
      "source": [
        "SMOTE application"
      ]
    },
    {
      "cell_type": "code",
      "execution_count": null,
      "metadata": {
        "id": "yX6Xb3Ybcd0i",
        "colab": {
          "base_uri": "https://localhost:8080/"
        },
        "outputId": "3c5d5ab2-cd46-44d0-e5bb-36b5381d3865"
      },
      "outputs": [
        {
          "output_type": "stream",
          "name": "stdout",
          "text": [
            "New class distribution after SMOTE: Counter({0: 86987, 1: 69589})\n",
            "Shape of X and y before SMOTE: (98053, 44)  and  (98053, 1)\n",
            "Shape of X and y after SMOTE: (156576, 44)  and  (156576, 1)\n",
            "<bound method NDFrame.head of         readmitted\n",
            "0                0\n",
            "1                0\n",
            "2                0\n",
            "3                0\n",
            "4                0\n",
            "...            ...\n",
            "156571           1\n",
            "156572           1\n",
            "156573           1\n",
            "156574           1\n",
            "156575           1\n",
            "\n",
            "[156576 rows x 1 columns]>\n"
          ]
        }
      ],
      "source": [
        "#SMOTE application:\n",
        "#print(X_train.shape)\n",
        "from collections import Counter\n",
        "from imblearn.combine import SMOTETomek\n",
        "from imblearn.under_sampling import NearMiss\n",
        "from imblearn.over_sampling import SMOTE\n",
        "\n",
        "# Apply SMOTE to the training set to handle class imbalance\n",
        "smt = SMOTE(random_state=42, sampling_strategy = 0.8)\n",
        "#smt = SMOTE(random_state=42)\n",
        "X_smote, y_smote = smt.fit_resample(X, y)\n",
        "\n",
        "print(\"New class distribution after SMOTE:\", Counter(y_smote['readmitted']))\n",
        "\n",
        "#A before and after of the dataset before the application of SMOTE and after\n",
        "print(\"Shape of X and y before SMOTE:\", X.shape, \" and \", y.shape)\n",
        "print(\"Shape of X and y after SMOTE:\", X_smote.shape, \" and \", y_smote.shape)\n",
        "\n",
        "print(y_smote.head)"
      ]
    },
    {
      "cell_type": "code",
      "execution_count": null,
      "metadata": {
        "id": "EZfx16GlheGm",
        "colab": {
          "base_uri": "https://localhost:8080/",
          "height": 458
        },
        "outputId": "8c989daf-9e3d-4804-c36c-220e052f0e60"
      },
      "outputs": [
        {
          "output_type": "display_data",
          "data": {
            "text/plain": [
              "<Figure size 1000x600 with 2 Axes>"
            ],
            "image/png": "[encoded data removed]"
          },
          "metadata": {}
        }
      ],
      "source": [
        "import matplotlib.pyplot as plt\n",
        "import seaborn as sns\n",
        "\n",
        "original_counts = Counter(y['readmitted'])\n",
        "new_counts = Counter(y_smote['readmitted'])\n",
        "\n",
        "# Create a bar plot to visualize the class distribution before and after SMOTE\n",
        "plt.figure(figsize=(10, 6))\n",
        "plt.subplot(1, 2, 1)\n",
        "sns.barplot(x=list(original_counts.keys()), y=list(original_counts.values()), color='blue')\n",
        "plt.xlabel('Class')\n",
        "plt.ylabel('Count')\n",
        "plt.title('Class Distribution Before SMOTE')\n",
        "\n",
        "# Create a bar plot to visualize the class distribution after SMOTE\n",
        "plt.subplot(1, 2, 2)\n",
        "sns.barplot(x=list(new_counts.keys()), y=list(new_counts.values()), color='orange')\n",
        "plt.xlabel('Class')\n",
        "plt.ylabel('Count')\n",
        "plt.title('Class Distribution After SMOTE')\n",
        "\n",
        "plt.tight_layout()\n",
        "plt.show()"
      ]
    },
    {
      "cell_type": "code",
      "execution_count": null,
      "metadata": {
        "id": "fyEeVf24Gcvy"
      },
      "outputs": [],
      "source": [
        "X_train, X_test, y_train, y_test = train_test_split(X_smote, y_smote, test_size=0.2, random_state=42)  # 20% of data for testing\n",
        "\n",
        "# include a cross validation step as well"
      ]
    },
    {
      "cell_type": "markdown",
      "metadata": {
        "id": "MsiQLDkDFMSQ"
      },
      "source": [
        "Apply scaling to the training data"
      ]
    },
    {
      "cell_type": "code",
      "execution_count": null,
      "metadata": {
        "id": "UScac_1iFPea"
      },
      "outputs": [],
      "source": [
        "from sklearn.preprocessing import StandardScaler\n",
        "\n",
        "scaler = StandardScaler()\n",
        "\n",
        "# Fit the scaler on the training data and transform it\n",
        "#X_train_scaled = scaler.fit_transform(X_train)\n",
        "X_train_scaled = scaler.fit_transform(X_train)\n",
        "y_train = y_train  # using smote y data to fit\n",
        "\n",
        "# Transform the test data using the same scaler\n",
        "X_test_scaled = scaler.transform(X_test)\n"
      ]
    },
    {
      "cell_type": "markdown",
      "metadata": {
        "id": "opjwEwx1Xemy"
      },
      "source": [
        "SMOTE work"
      ]
    },
    {
      "cell_type": "markdown",
      "metadata": {
        "id": "Orj2Qqx2FN_6"
      },
      "source": []
    },
    {
      "cell_type": "markdown",
      "metadata": {
        "id": "Z_Dbkvr-tJ-s"
      },
      "source": [
        "Implmentation of SVM Model\n",
        "\n",
        "Will also try running SVM through sklearn.model_selection.GridSearchCV tomorrow\n",
        "1. First SVM shows RBF kernel using grid_searchcv\n",
        "2. Second SVM shows LinearSVM using linear kernel using gridsearchcv\n",
        "3. Also tried running SMOTE above 2 cells"
      ]
    },
    {
      "cell_type": "code",
      "execution_count": null,
      "metadata": {
        "id": "4C5n8nh9F316"
      },
      "outputs": [],
      "source": [
        "from sklearn import svm\n",
        "import numpy as np\n",
        "import matplotlib.pyplot as plt\n",
        "from sklearn.metrics import confusion_matrix, accuracy_score\n",
        "from sklearn.model_selection import GridSearchCV\n"
      ]
    },
    {
      "cell_type": "markdown",
      "metadata": {
        "id": "k1t7Qu-Z3MqU"
      },
      "source": [
        "Both the GridSearchCVs are taking too long so we will use normal SVM and linear SVM for now."
      ]
    },
    {
      "cell_type": "code",
      "execution_count": null,
      "metadata": {
        "id": "ESoAeZId58dI",
        "colab": {
          "base_uri": "https://localhost:8080/"
        },
        "outputId": "d26b26fd-6d13-48b8-fd78-396efcaac8e1"
      },
      "outputs": [
        {
          "output_type": "stream",
          "name": "stdout",
          "text": [
            "Confusion matrix for RBF SVM: [[17308   113]\n",
            " [ 3870  3066]]\n",
            "Accuracy Score for RBF SVM: 0.8364741142176787\n",
            "Confusion matrix for LinearSVC: [[16865   556]\n",
            " [ 4008  2928]]\n",
            "Accuracy Score for LinearSVC: 0.8126206018803629\n"
          ]
        },
        {
          "output_type": "stream",
          "name": "stderr",
          "text": [
            "/usr/local/lib/python3.10/dist-packages/sklearn/svm/_base.py:1244: ConvergenceWarning: Liblinear failed to converge, increase the number of iterations.\n",
            "  warnings.warn(\n"
          ]
        }
      ],
      "source": [
        "# Initialize an SVM with the RBF kernel\n",
        "rbf_svc = svm.SVC(kernel='rbf')\n",
        "\n",
        "# Fit the SVM to the scaled training data\n",
        "rbf_svc.fit(X_train_scaled, y_train.values.ravel())\n",
        "\n",
        "# Make predictions using the SVM on the test set\n",
        "rbf_predictions = rbf_svc.predict(X_test_scaled)\n",
        "\n",
        "# Calculate the confusion matrix and accuracy score for RBF SVM\n",
        "rbf_confusion_matrix_results = confusion_matrix(y_test.values.ravel(), rbf_predictions)\n",
        "rbf_accuracyScore = accuracy_score(y_test.values.ravel(), rbf_predictions)\n",
        "\n",
        "# Print the results for RBF SVM\n",
        "print(\"Confusion matrix for RBF SVM:\", rbf_confusion_matrix_results)\n",
        "print(f\"Accuracy Score for RBF SVM: {rbf_accuracyScore}\")\n",
        "\n",
        "# Initialize a LinearSVC\n",
        "linear_svc = svm.LinearSVC()\n",
        "\n",
        "# Fit the LinearSVC to the scaled training data\n",
        "linear_svc.fit(X_train_scaled, y_train.values.ravel())\n",
        "\n",
        "# Make predictions using the LinearSVC on the test set\n",
        "linear_predictions = linear_svc.predict(X_test_scaled)\n",
        "\n",
        "# Calculate the confusion matrix and accuracy score for LinearSVC\n",
        "linear_confusion_matrix_results = confusion_matrix(y_test.values.ravel(), linear_predictions)\n",
        "linear_accuracyScore = accuracy_score(y_test.values.ravel(), linear_predictions)\n",
        "\n",
        "# Print the results for LinearSVC\n",
        "print(\"Confusion matrix for LinearSVC:\", linear_confusion_matrix_results)\n",
        "print(f\"Accuracy Score for LinearSVC: {linear_accuracyScore}\")\n"
      ]
    },
    {
      "cell_type": "code",
      "execution_count": null,
      "metadata": {
        "id": "_tAxGIyKQxc5"
      },
      "outputs": [],
      "source": [
        "# # Define parameter grid for GridSearchCV with both 'C' and 'gamma' for the RBF kernel\n",
        "# param_grid = {'C': [0.1, 1, 10, 100], 'gamma': [0.001, 0.01, 0.1, 1]}\n",
        "\n",
        "# # Initialize GridSearchCV with svm.SVC using the RBF kernel and the parameter grid\n",
        "# grid_search_rbf = GridSearchCV(svm.SVC(kernel='rbf'), param_grid, cv=5)\n",
        "\n",
        "# # Fit GridSearchCV to the scaled training data\n",
        "# grid_search_rbf.fit(X_train_scaled, y_train.values.ravel())\n",
        "\n",
        "# # Get the best estimator directly from GridSearchCV\n",
        "# best_rbf_svc = grid_search_rbf.best_estimator_\n",
        "\n",
        "# # Make predictions using the best found parameters on the test set\n",
        "# predictions = best_rbf_svc.predict(X_test_scaled)\n",
        "\n",
        "# # Calculate the confusion matrix and accuracy score\n",
        "# confusion_matrix_results = confusion_matrix(y_test.values.ravel(), predictions)\n",
        "# accuracyScore = accuracy_score(y_test.values.ravel(), predictions)\n",
        "\n",
        "# # Print the results\n",
        "# print(\"Best parameters found by GridSearchCV:\", grid_search_rbf.best_params_)\n",
        "# print(confusion_matrix_results)\n",
        "# print(f\"Accuracy Score: {accuracyScore}\")"
      ]
    },
    {
      "cell_type": "markdown",
      "metadata": {
        "id": "S-6ghzqz8ZqI"
      },
      "source": [
        "A figure that shows the performance of the model across the different hyperparameter values. Expectation: We arrive at a set of hyperparams which will result in best performance in terms of accuracy etc."
      ]
    },
    {
      "cell_type": "code",
      "execution_count": null,
      "metadata": {
        "id": "yNhgZ6tKYykT"
      },
      "outputs": [],
      "source": [
        "# # Define parameter grid for GridSearchCV, without the gamma parameter for LinearSVC\n",
        "# param_grid = {'C': [0.1, 1, 10, 100]}\n",
        "\n",
        "# # Initialize GridSearchCV with LinearSVC and the adjusted parameter grid\n",
        "# grid_search_linear = GridSearchCV(svm.LinearSVC(), param_grid, cv=5)\n",
        "\n",
        "# # Fit GridSearchCV to the scaled training data\n",
        "# grid_search_linear.fit(X_train_scaled, y_train.values.ravel())\n",
        "\n",
        "# # Get the best estimator directly from GridSearchCV\n",
        "# best_linear_svc = grid_search_linear.best_estimator_\n",
        "\n",
        "# # Make predictions using the best found parameters on the test set\n",
        "# predictions = best_linear_svc.predict(X_test_scaled)\n",
        "\n",
        "# # Calculate the confusion matrix and accuracy score\n",
        "# confusion_matrix_results = confusion_matrix(y_test.values.ravel(), predictions)\n",
        "# accuracyScore = accuracy_score(y_test.values.ravel(), predictions)\n",
        "\n",
        "# # Print the results\n",
        "# print(\"Best parameters found by GridSearchCV:\", grid_search_linear.best_params_)\n",
        "# print(confusion_matrix_results)\n",
        "# print(f\"Accuracy Score: {accuracyScore}\")\n"
      ]
    },
    {
      "cell_type": "markdown",
      "metadata": {
        "id": "dcimjr31B1ne"
      },
      "source": [
        "LOGISTIC REGRESSION"
      ]
    },
    {
      "cell_type": "code",
      "execution_count": null,
      "metadata": {
        "id": "1U8_sH-hIm4i",
        "colab": {
          "base_uri": "https://localhost:8080/"
        },
        "outputId": "e64adce8-2bcc-42cb-d9f7-995e8542ecdd"
      },
      "outputs": [
        {
          "output_type": "stream",
          "name": "stdout",
          "text": [
            "[[14867  2438]\n",
            " [ 4415  9596]]\n",
            "Accuracy Score: 0.781166177034104\n"
          ]
        }
      ],
      "source": [
        "from sklearn.linear_model import LogisticRegression\n",
        "from sklearn.metrics import confusion_matrix, accuracy_score\n",
        "\n",
        "#log_reg = LogisticRegression(C=1, penalty='l1', solver=\"liblinear\")\n",
        "log_reg = LogisticRegression(C=0.1, penalty='l2')\n",
        "log_reg.fit(X_train_scaled, y_train.values.ravel())\n",
        "predictions = log_reg.predict(X_test_scaled)\n",
        "confusion_matrix_results = confusion_matrix(y_test.values.ravel(), predictions)\n",
        "print(confusion_matrix_results)\n",
        "accuracyScore = accuracy_score(y_test.values.ravel(), predictions)\n",
        "print(f\"Accuracy Score: {accuracyScore}\")"
      ]
    },
    {
      "cell_type": "code",
      "execution_count": null,
      "metadata": {
        "id": "fVNI_mK7dtIu",
        "colab": {
          "base_uri": "https://localhost:8080/",
          "height": 975
        },
        "outputId": "8c9e7c1c-b3cf-4fc4-ccfd-c8b84b8d90c2"
      },
      "outputs": [
        {
          "output_type": "stream",
          "name": "stdout",
          "text": [
            "(31316,)\n",
            "        readmitted\n",
            "37053            0\n",
            "142507           1\n",
            "149963           1\n",
            "2800             0\n",
            "4168             0\n",
            "...            ...\n",
            "3913             0\n",
            "72167            0\n",
            "52306            0\n",
            "14664            0\n",
            "32595            0\n",
            "\n",
            "[31316 rows x 1 columns]\n",
            "[[ 0.48112794  1.30723045  0.65892786 ... -1.45803438  1.5884818\n",
            "  -0.36501225]\n",
            " [ 0.48112794 -0.76492361  1.33186677 ...  0.8776875   1.33002137\n",
            "  -0.05476386]\n",
            " [ 0.48112794 -0.76492361 -0.01401105 ...  0.93396996 -1.30627503\n",
            "  -1.14063323]\n",
            " ...\n",
            " [-1.8850317   1.30723045  0.65892786 ...  0.65255768 -1.74565777\n",
            "  -1.14063323]\n",
            " [-1.8850317  -0.76492361 -3.37870561 ... -1.12033965  1.04571489\n",
            "   1.28964583]\n",
            " [-1.8850317   1.30723045  1.33186677 ... -1.26104579  0.76140842\n",
            "   1.65160229]]\n",
            "(31316,)\n"
          ]
        },
        {
          "output_type": "display_data",
          "data": {
            "text/plain": [
              "<Figure size 640x480 with 2 Axes>"
            ],
            "image/png": "[encoded data removed]"
          },
          "metadata": {}
        }
      ],
      "source": [
        "print(predictions.shape)\n",
        "print(y_test)\n",
        "print(X_test_scaled)\n",
        "print(y_test.squeeze().shape)\n",
        "from sklearn.metrics import confusion_matrix, ConfusionMatrixDisplay\n",
        "\n",
        "# Calculate confusion matrix\n",
        "cm = confusion_matrix(y_test.squeeze(), predictions.squeeze())\n",
        "disp = ConfusionMatrixDisplay(confusion_matrix=cm, display_labels=['Class 0', 'Class 1'])\n",
        "disp.plot()\n",
        "plt.title('Confusion Matrix')\n",
        "plt.show()\n"
      ]
    },
    {
      "cell_type": "code",
      "execution_count": null,
      "metadata": {
        "id": "cr8vtBTWeuSg",
        "colab": {
          "base_uri": "https://localhost:8080/",
          "height": 472
        },
        "outputId": "f721e56c-c3e1-4b96-9448-b7c40b8ae59d"
      },
      "outputs": [
        {
          "output_type": "display_data",
          "data": {
            "text/plain": [
              "<Figure size 640x480 with 1 Axes>"
            ],
            "image/png": "[encoded data removed]"
          },
          "metadata": {}
        }
      ],
      "source": [
        "from sklearn.metrics import roc_curve, auc\n",
        "# which model is this ROC curve for?\n",
        "# Calculate ROC curve\n",
        "fpr, tpr, thresholds = roc_curve(y_test, predictions)\n",
        "roc_auc = auc(fpr, tpr)\n",
        "\n",
        "# Plot ROC curve\n",
        "plt.figure()\n",
        "plt.plot(fpr, tpr, color='darkorange', lw=2, label='ROC curve (AUC = %0.2f)' % roc_auc)\n",
        "plt.plot([0, 1], [0, 1], color='navy', lw=2, linestyle='--')\n",
        "plt.xlabel('False Positive Rate')\n",
        "plt.ylabel('True Positive Rate')\n",
        "plt.title('ROC Curve')\n",
        "plt.legend(loc='lower right')\n",
        "plt.show()"
      ]
    },
    {
      "cell_type": "code",
      "execution_count": null,
      "metadata": {
        "id": "I7_RGG2EfMyF",
        "colab": {
          "base_uri": "https://localhost:8080/",
          "height": 472
        },
        "outputId": "b80de41a-75da-4665-f494-a8220ac78bbe"
      },
      "outputs": [
        {
          "output_type": "display_data",
          "data": {
            "text/plain": [
              "<Figure size 640x480 with 1 Axes>"
            ],
            "image/png": "[encoded data removed]"
          },
          "metadata": {}
        }
      ],
      "source": [
        "from sklearn.metrics import precision_recall_curve, PrecisionRecallDisplay\n",
        "\n",
        "# Calculate precision-recall curve\n",
        "precision, recall, thresholds = precision_recall_curve(y_test, predictions)\n",
        "\n",
        "# Plot precision-recall curve\n",
        "pr_display = PrecisionRecallDisplay(precision=precision, recall=recall).plot()\n",
        "plt.title('Precision-Recall Curve')\n",
        "plt.show()"
      ]
    },
    {
      "cell_type": "markdown",
      "metadata": {
        "id": "dG_fKuMaCsrf"
      },
      "source": [
        "LR WITH OTHER METRICS"
      ]
    },
    {
      "cell_type": "code",
      "execution_count": null,
      "metadata": {
        "id": "O5D3SEnSgd2Y",
        "colab": {
          "base_uri": "https://localhost:8080/"
        },
        "outputId": "4120186c-5208-49c3-f242-596aa97da0fa"
      },
      "outputs": [
        {
          "output_type": "stream",
          "name": "stdout",
          "text": [
            "Confusion Matrix:\n",
            "[[14869  2436]\n",
            " [ 4414  9597]]\n",
            "Accuracy Score: 0.7812619747094137\n",
            "Classification Report:\n",
            "              precision    recall  f1-score   support\n",
            "\n",
            "           0       0.77      0.86      0.81     17305\n",
            "           1       0.80      0.68      0.74     14011\n",
            "\n",
            "    accuracy                           0.78     31316\n",
            "   macro avg       0.78      0.77      0.77     31316\n",
            "weighted avg       0.78      0.78      0.78     31316\n",
            "\n"
          ]
        }
      ],
      "source": [
        "from sklearn.linear_model import LogisticRegression\n",
        "from sklearn.metrics import confusion_matrix, accuracy_score, classification_report\n",
        "\n",
        "log_reg = LogisticRegression(C=10, penalty='l2')\n",
        "log_reg.fit(X_train_scaled, y_train.values.ravel())\n",
        "predictions = log_reg.predict(X_test_scaled)\n",
        "confusion_matrix_results = confusion_matrix(y_test.values.ravel(), predictions)\n",
        "print(\"Confusion Matrix:\")\n",
        "print(confusion_matrix_results)\n",
        "\n",
        "accuracyScore = accuracy_score(y_test.values.ravel(), predictions)\n",
        "print(f\"Accuracy Score: {accuracyScore}\")\n",
        "\n",
        "# Calculate precision, recall, and F1-score\n",
        "classification_rep = classification_report(y_test.values.ravel(), predictions)\n",
        "print(\"Classification Report:\")\n",
        "print(classification_rep)\n"
      ]
    },
    {
      "cell_type": "markdown",
      "metadata": {
        "id": "Efi51tBsChjI"
      },
      "source": [
        "**XGBoost**"
      ]
    },
    {
      "cell_type": "code",
      "execution_count": null,
      "metadata": {
        "id": "2vznAvIRjQiu",
        "colab": {
          "base_uri": "https://localhost:8080/"
        },
        "outputId": "f989f353-8133-46e5-9abf-567ba29c6830"
      },
      "outputs": [
        {
          "output_type": "stream",
          "name": "stderr",
          "text": [
            "/usr/local/lib/python3.10/dist-packages/sklearn/preprocessing/_label.py:116: DataConversionWarning: A column-vector y was passed when a 1d array was expected. Please change the shape of y to (n_samples, ), for example using ravel().\n",
            "  y = column_or_1d(y, warn=True)\n",
            "/usr/local/lib/python3.10/dist-packages/sklearn/preprocessing/_label.py:134: DataConversionWarning: A column-vector y was passed when a 1d array was expected. Please change the shape of y to (n_samples, ), for example using ravel().\n",
            "  y = column_or_1d(y, dtype=self.classes_.dtype, warn=True)\n",
            "/usr/local/lib/python3.10/dist-packages/xgboost/core.py:160: UserWarning: [01:54:26] WARNING: /workspace/src/learner.cc:742: \n",
            "Parameters: { \"scale_pos_weight\" } are not used.\n",
            "\n",
            "  warnings.warn(smsg, UserWarning)\n"
          ]
        },
        {
          "output_type": "stream",
          "name": "stdout",
          "text": [
            "Confusion Matrix:\n",
            "[[17166   255]\n",
            " [ 3863  3073]]\n",
            "Accuracy Score: 0.8309315597158927\n",
            "Classification Report:\n",
            "              precision    recall  f1-score   support\n",
            "\n",
            "           0       0.82      0.99      0.89     17421\n",
            "           1       0.92      0.44      0.60      6936\n",
            "\n",
            "    accuracy                           0.83     24357\n",
            "   macro avg       0.87      0.71      0.75     24357\n",
            "weighted avg       0.85      0.83      0.81     24357\n",
            "\n"
          ]
        }
      ],
      "source": [
        "import numpy as np\n",
        "import xgboost as xgb\n",
        "from sklearn.metrics import confusion_matrix, accuracy_score, classification_report\n",
        "from sklearn.preprocessing import LabelEncoder\n",
        "\n",
        "label_encoder = LabelEncoder()\n",
        "y_train_numeric = label_encoder.fit_transform(y_train)\n",
        "y_test_numeric = label_encoder.transform(y_test)\n",
        "\n",
        "params = {\n",
        "    'objective': 'multi:softmax',\n",
        "    'num_class': len(label_encoder.classes_),\n",
        "    'scale_pos_weight': 'balanced',\n",
        "}\n",
        "\n",
        "dtrain = xgb.DMatrix(X_train_scaled, label=y_train_numeric)\n",
        "\n",
        "\n",
        "xgb_model = xgb.train(params, dtrain)\n",
        "\n",
        "dtest = xgb.DMatrix(X_test_scaled)\n",
        "predictions = xgb_model.predict(dtest)\n",
        "\n",
        "predictions_labels = label_encoder.inverse_transform(predictions.astype(int))\n",
        "\n",
        "confusion_matrix_results = confusion_matrix(y_test, predictions_labels)\n",
        "print(\"Confusion Matrix:\")\n",
        "print(confusion_matrix_results)\n",
        "\n",
        "accuracyScore = accuracy_score(y_test, predictions_labels)\n",
        "print(f\"Accuracy Score: {accuracyScore}\")\n",
        "\n",
        "classification_rep = classification_report(y_test, predictions_labels)\n",
        "print(\"Classification Report:\")\n",
        "print(classification_rep)\n"
      ]
    },
    {
      "cell_type": "code",
      "execution_count": null,
      "metadata": {
        "id": "qromZwBMivzO",
        "colab": {
          "base_uri": "https://localhost:8080/"
        },
        "outputId": "ab6254f0-c38e-4a57-c8d5-b486c41eceab"
      },
      "outputs": [
        {
          "output_type": "stream",
          "name": "stdout",
          "text": [
            "[0 1]\n"
          ]
        }
      ],
      "source": [
        "unique_labels = np.unique(y_train)\n",
        "print(unique_labels)\n"
      ]
    },
    {
      "cell_type": "code",
      "execution_count": null,
      "metadata": {
        "id": "hVeOa1FAIgeD",
        "colab": {
          "base_uri": "https://localhost:8080/"
        },
        "outputId": "dd9dbc5b-337d-4086-b7da-cc94543e510d"
      },
      "outputs": [
        {
          "output_type": "stream",
          "name": "stderr",
          "text": [
            "/usr/local/lib/python3.10/dist-packages/sklearn/model_selection/_validation.py:378: FitFailedWarning: \n",
            "18 fits failed out of a total of 36.\n",
            "The score on these train-test partitions for these parameters will be set to nan.\n",
            "If these failures are not expected, you can try to debug them by setting error_score='raise'.\n",
            "\n",
            "Below are more details about the failures:\n",
            "--------------------------------------------------------------------------------\n",
            "18 fits failed with the following error:\n",
            "Traceback (most recent call last):\n",
            "  File \"/usr/local/lib/python3.10/dist-packages/sklearn/model_selection/_validation.py\", line 686, in _fit_and_score\n",
            "    estimator.fit(X_train, y_train, **fit_params)\n",
            "  File \"/usr/local/lib/python3.10/dist-packages/sklearn/linear_model/_logistic.py\", line 1162, in fit\n",
            "    solver = _check_solver(self.solver, self.penalty, self.dual)\n",
            "  File \"/usr/local/lib/python3.10/dist-packages/sklearn/linear_model/_logistic.py\", line 54, in _check_solver\n",
            "    raise ValueError(\n",
            "ValueError: Solver lbfgs supports only 'l2' or 'none' penalties, got l1 penalty.\n",
            "\n",
            "  warnings.warn(some_fits_failed_message, FitFailedWarning)\n",
            "/usr/local/lib/python3.10/dist-packages/sklearn/model_selection/_search.py:952: UserWarning: One or more of the test scores are non-finite: [       nan 0.72377444        nan 0.72825999        nan 0.728804\n",
            "        nan 0.72870135        nan 0.72868082        nan 0.72872188]\n",
            "  warnings.warn(\n"
          ]
        },
        {
          "output_type": "stream",
          "name": "stdout",
          "text": [
            "Best Hyperparameters: {'C': 0.1, 'penalty': 'l2'}\n",
            "Accuracy Score: 0.7319456419099232\n"
          ]
        }
      ],
      "source": [
        "from sklearn.model_selection import GridSearchCV\n",
        "from sklearn.linear_model import LogisticRegression\n",
        "\n",
        "\n",
        "param_grid = {\n",
        "    'C': [0.001, 0.01, 0.1, 1, 10, 100],\n",
        "    'penalty': ['l1', 'l2'],\n",
        "}\n",
        "\n",
        "log_reg = LogisticRegression(class_weight='balanced')\n",
        "\n",
        "grid_search = GridSearchCV(estimator=log_reg, param_grid=param_grid, cv=3, scoring='accuracy')\n",
        "grid_search.fit(X_train_scaled, y_train.values.ravel())\n",
        "\n",
        "best_params = grid_search.best_params_\n",
        "print(\"Best Hyperparameters:\", best_params)\n",
        "\n",
        "best_model = grid_search.best_estimator_\n",
        "predictions = best_model.predict(X_test_scaled)\n",
        "accuracyScore = accuracy_score(y_test.values.ravel(), predictions)\n",
        "print(f\"Accuracy Score: {accuracyScore}\")\n"
      ]
    },
    {
      "cell_type": "markdown",
      "metadata": {
        "id": "HCbUSVCADlXp"
      },
      "source": [
        "# **SUMMARY**\n",
        "\n",
        "Steps done:\n",
        "\n",
        "To solve the class imbalance, we have used SMOTE. (Use the bar graph to show the class imbalance.)\n",
        "\n",
        "To be done:\n",
        "\n",
        "Which features do we actually need?\n",
        "\n",
        "Next steps:\n",
        "\n",
        "\n",
        "Commitments:\n",
        "\n",
        "Pavithra: Going to add the random forest and decision trees code to the ensemble method. ElasticNetCV as well, please. Fix the grid search for logistic regression.\n",
        "\n",
        "Mehdia: Graphical representations\n",
        "\n",
        "Jonathan: Perform PCA on the scaled and normalized data.\n",
        "\n",
        "Rishi: Validation. Evaluation metrics (theory, which one should be best fit?)\n",
        "\n",
        "Kathy: Can you also work on the graphical representations?\n",
        "\n",
        "Sarth: Try improving existing models help with visualizations"
      ]
    },
    {
      "cell_type": "markdown",
      "metadata": {
        "id": "ftuQKM4p5ohC"
      },
      "source": []
    }
  ],
  "metadata": {
    "colab": {
      "provenance": []
    },
    "kernelspec": {
      "display_name": "Python 3",
      "name": "python3"
    },
    "language_info": {
      "name": "python"
    }
  },
  "nbformat": 4,
  "nbformat_minor": 0
}